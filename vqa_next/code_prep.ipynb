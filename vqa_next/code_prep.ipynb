{
 "cells": [
  {
   "cell_type": "code",
   "execution_count": 5,
   "metadata": {},
   "outputs": [],
   "source": [
    "from PIL import Image\n",
    "import pandas as pd\n",
    "import ast"
   ]
  },
  {
   "cell_type": "code",
   "execution_count": 12,
   "metadata": {},
   "outputs": [
    {
     "data": {
      "text/html": [
       "<div>\n",
       "<style scoped>\n",
       "    .dataframe tbody tr th:only-of-type {\n",
       "        vertical-align: middle;\n",
       "    }\n",
       "\n",
       "    .dataframe tbody tr th {\n",
       "        vertical-align: top;\n",
       "    }\n",
       "\n",
       "    .dataframe thead th {\n",
       "        text-align: right;\n",
       "    }\n",
       "</style>\n",
       "<table border=\"1\" class=\"dataframe\">\n",
       "  <thead>\n",
       "    <tr style=\"text-align: right;\">\n",
       "      <th></th>\n",
       "      <th>filename</th>\n",
       "      <th>question</th>\n",
       "      <th>options</th>\n",
       "      <th>answer</th>\n",
       "      <th>category</th>\n",
       "    </tr>\n",
       "  </thead>\n",
       "  <tbody>\n",
       "    <tr>\n",
       "      <th>0</th>\n",
       "      <td>BNATURE_3167.jpg</td>\n",
       "      <td>ছবিটি কোন ধর্মাবলম্বীদের প্রার্থনা স্থান?</td>\n",
       "      <td>['হিন্দু', 'মুসলিম', 'বৌদ্ধ', 'খ্রিস্টান']</td>\n",
       "      <td>মুসলিম</td>\n",
       "      <td>Arts &amp; History</td>\n",
       "    </tr>\n",
       "    <tr>\n",
       "      <th>1</th>\n",
       "      <td>BORNON_3694.jpg</td>\n",
       "      <td>এই মহিলাটি কোন ঐতিহ্যবাহী পোশাক পরেছেন?</td>\n",
       "      <td>['শাড়ি', 'কুর্তা', 'লেহেঙ্গা', 'সালোয়ার কামিজ']</td>\n",
       "      <td>শাড়ি</td>\n",
       "      <td>Arts &amp; History</td>\n",
       "    </tr>\n",
       "    <tr>\n",
       "      <th>2</th>\n",
       "      <td>CHITTRON_3491.png</td>\n",
       "      <td>চিত্র প্রদর্শিত মাছটি বাংলাদেশের কি হিসেবে অভি...</td>\n",
       "      <td>['জাতীয় মাছ', 'সাধারণ মাছ', 'ছোট মাছ', 'কোনটি...</td>\n",
       "      <td>জাতীয় মাছ</td>\n",
       "      <td>Arts &amp; History</td>\n",
       "    </tr>\n",
       "  </tbody>\n",
       "</table>\n",
       "</div>"
      ],
      "text/plain": [
       "            filename                                           question  \\\n",
       "0   BNATURE_3167.jpg          ছবিটি কোন ধর্মাবলম্বীদের প্রার্থনা স্থান?   \n",
       "1    BORNON_3694.jpg            এই মহিলাটি কোন ঐতিহ্যবাহী পোশাক পরেছেন?   \n",
       "2  CHITTRON_3491.png  চিত্র প্রদর্শিত মাছটি বাংলাদেশের কি হিসেবে অভি...   \n",
       "\n",
       "                                             options      answer  \\\n",
       "0         ['হিন্দু', 'মুসলিম', 'বৌদ্ধ', 'খ্রিস্টান']      মুসলিম   \n",
       "1  ['শাড়ি', 'কুর্তা', 'লেহেঙ্গা', 'সালোয়ার কামিজ']       শাড়ি   \n",
       "2  ['জাতীয় মাছ', 'সাধারণ মাছ', 'ছোট মাছ', 'কোনটি...  জাতীয় মাছ   \n",
       "\n",
       "         category  \n",
       "0  Arts & History  \n",
       "1  Arts & History  \n",
       "2  Arts & History  "
      ]
     },
     "execution_count": 12,
     "metadata": {},
     "output_type": "execute_result"
    }
   ],
   "source": [
    "test_csv = \"/home/sourove/code/Python/vqa-2/annotation/relevants/all/test_data.csv\"\n",
    "df = pd.read_csv(test_csv)\n",
    "df.head(3)"
   ]
  },
  {
   "cell_type": "code",
   "execution_count": 17,
   "metadata": {},
   "outputs": [
    {
     "data": {
      "text/html": [
       "<div>\n",
       "<style scoped>\n",
       "    .dataframe tbody tr th:only-of-type {\n",
       "        vertical-align: middle;\n",
       "    }\n",
       "\n",
       "    .dataframe tbody tr th {\n",
       "        vertical-align: top;\n",
       "    }\n",
       "\n",
       "    .dataframe thead th {\n",
       "        text-align: right;\n",
       "    }\n",
       "</style>\n",
       "<table border=\"1\" class=\"dataframe\">\n",
       "  <thead>\n",
       "    <tr style=\"text-align: right;\">\n",
       "      <th></th>\n",
       "      <th>filename</th>\n",
       "      <th>question</th>\n",
       "      <th>options</th>\n",
       "      <th>answer</th>\n",
       "      <th>category</th>\n",
       "    </tr>\n",
       "  </thead>\n",
       "  <tbody>\n",
       "    <tr>\n",
       "      <th>0</th>\n",
       "      <td>BNATURE_3167.jpg</td>\n",
       "      <td>ছবিটি কোন ধর্মাবলম্বীদের প্রার্থনা স্থান?</td>\n",
       "      <td>['হিন্দু', 'মুসলিম', 'বৌদ্ধ', 'খ্রিস্টান']</td>\n",
       "      <td>মুসলিম</td>\n",
       "      <td>Arts &amp; History</td>\n",
       "    </tr>\n",
       "    <tr>\n",
       "      <th>1</th>\n",
       "      <td>BORNON_3694.jpg</td>\n",
       "      <td>এই মহিলাটি কোন ঐতিহ্যবাহী পোশাক পরেছেন?</td>\n",
       "      <td>['শাড়ি', 'কুর্তা', 'লেহেঙ্গা', 'সালোয়ার কামিজ']</td>\n",
       "      <td>শাড়ি</td>\n",
       "      <td>Arts &amp; History</td>\n",
       "    </tr>\n",
       "    <tr>\n",
       "      <th>2</th>\n",
       "      <td>CHITTRON_3491.png</td>\n",
       "      <td>চিত্র প্রদর্শিত মাছটি বাংলাদেশের কি হিসেবে অভি...</td>\n",
       "      <td>['জাতীয় মাছ', 'সাধারণ মাছ', 'ছোট মাছ', 'কোনটি...</td>\n",
       "      <td>জাতীয় মাছ</td>\n",
       "      <td>Arts &amp; History</td>\n",
       "    </tr>\n",
       "  </tbody>\n",
       "</table>\n",
       "</div>"
      ],
      "text/plain": [
       "            filename                                           question  \\\n",
       "0   BNATURE_3167.jpg          ছবিটি কোন ধর্মাবলম্বীদের প্রার্থনা স্থান?   \n",
       "1    BORNON_3694.jpg            এই মহিলাটি কোন ঐতিহ্যবাহী পোশাক পরেছেন?   \n",
       "2  CHITTRON_3491.png  চিত্র প্রদর্শিত মাছটি বাংলাদেশের কি হিসেবে অভি...   \n",
       "\n",
       "                                             options      answer  \\\n",
       "0         ['হিন্দু', 'মুসলিম', 'বৌদ্ধ', 'খ্রিস্টান']      মুসলিম   \n",
       "1  ['শাড়ি', 'কুর্তা', 'লেহেঙ্গা', 'সালোয়ার কামিজ']       শাড়ি   \n",
       "2  ['জাতীয় মাছ', 'সাধারণ মাছ', 'ছোট মাছ', 'কোনটি...  জাতীয় মাছ   \n",
       "\n",
       "         category  \n",
       "0  Arts & History  \n",
       "1  Arts & History  \n",
       "2  Arts & History  "
      ]
     },
     "execution_count": 17,
     "metadata": {},
     "output_type": "execute_result"
    }
   ],
   "source": [
    "df = df[:3]\n",
    "df.head()"
   ]
  },
  {
   "cell_type": "code",
   "execution_count": 24,
   "metadata": {},
   "outputs": [],
   "source": [
    "# prompt\n",
    "def prompt(question: str, options: list):\n",
    "    return \"\"\"You are asked a question based on the provided image and given four options to choose your answer from. You have to choose one option only.\n",
    "The options will be given in 1. option_a, 2. option_b, 3. option_c, 4. option_d format. You need to provide only the correct numerical value assigned\n",
    "to the correct answer. The question asked will be based on the image and you need to use the image as the context to select the correct answer. \n",
    "    \n",
    "question: {},\n",
    "options: 1. {}, 2. {}, 3. {}, 4. {}\n",
    "\n",
    "    \"\"\".format(question, options[0], options[1], options[2], options[3])"
   ]
  },
  {
   "cell_type": "code",
   "execution_count": 36,
   "metadata": {},
   "outputs": [],
   "source": [
    "def get_answer(item):\n",
    "    filename = item[\"filename\"]\n",
    "    question = item[\"question\"]\n",
    "    answer = item[\"answer\"]\n",
    "    options = item[\"options\"]\n",
    "    parsed_options = ast.literal_eval(options) \n",
    "    # print(type(parsed_options), parsed_options)\n",
    "    \n",
    "    prepared_prompt = prompt(question, parsed_options)\n",
    "    \n",
    "    \n",
    "    print(parsed_options.index(answer) +1)\n",
    "    return (parsed_options.index(answer)+1)\n",
    "    "
   ]
  },
  {
   "cell_type": "code",
   "execution_count": 37,
   "metadata": {},
   "outputs": [
    {
     "name": "stdout",
     "output_type": "stream",
     "text": [
      "2\n",
      "1\n",
      "1\n"
     ]
    }
   ],
   "source": [
    "df['gen'] = df.apply(lambda row: get_answer(row), axis=1)"
   ]
  },
  {
   "cell_type": "code",
   "execution_count": 38,
   "metadata": {},
   "outputs": [
    {
     "data": {
      "text/html": [
       "<div>\n",
       "<style scoped>\n",
       "    .dataframe tbody tr th:only-of-type {\n",
       "        vertical-align: middle;\n",
       "    }\n",
       "\n",
       "    .dataframe tbody tr th {\n",
       "        vertical-align: top;\n",
       "    }\n",
       "\n",
       "    .dataframe thead th {\n",
       "        text-align: right;\n",
       "    }\n",
       "</style>\n",
       "<table border=\"1\" class=\"dataframe\">\n",
       "  <thead>\n",
       "    <tr style=\"text-align: right;\">\n",
       "      <th></th>\n",
       "      <th>filename</th>\n",
       "      <th>question</th>\n",
       "      <th>options</th>\n",
       "      <th>answer</th>\n",
       "      <th>category</th>\n",
       "      <th>gen</th>\n",
       "    </tr>\n",
       "  </thead>\n",
       "  <tbody>\n",
       "    <tr>\n",
       "      <th>0</th>\n",
       "      <td>BNATURE_3167.jpg</td>\n",
       "      <td>ছবিটি কোন ধর্মাবলম্বীদের প্রার্থনা স্থান?</td>\n",
       "      <td>['হিন্দু', 'মুসলিম', 'বৌদ্ধ', 'খ্রিস্টান']</td>\n",
       "      <td>মুসলিম</td>\n",
       "      <td>Arts &amp; History</td>\n",
       "      <td>2</td>\n",
       "    </tr>\n",
       "    <tr>\n",
       "      <th>1</th>\n",
       "      <td>BORNON_3694.jpg</td>\n",
       "      <td>এই মহিলাটি কোন ঐতিহ্যবাহী পোশাক পরেছেন?</td>\n",
       "      <td>['শাড়ি', 'কুর্তা', 'লেহেঙ্গা', 'সালোয়ার কামিজ']</td>\n",
       "      <td>শাড়ি</td>\n",
       "      <td>Arts &amp; History</td>\n",
       "      <td>1</td>\n",
       "    </tr>\n",
       "    <tr>\n",
       "      <th>2</th>\n",
       "      <td>CHITTRON_3491.png</td>\n",
       "      <td>চিত্র প্রদর্শিত মাছটি বাংলাদেশের কি হিসেবে অভি...</td>\n",
       "      <td>['জাতীয় মাছ', 'সাধারণ মাছ', 'ছোট মাছ', 'কোনটি...</td>\n",
       "      <td>জাতীয় মাছ</td>\n",
       "      <td>Arts &amp; History</td>\n",
       "      <td>1</td>\n",
       "    </tr>\n",
       "  </tbody>\n",
       "</table>\n",
       "</div>"
      ],
      "text/plain": [
       "            filename                                           question  \\\n",
       "0   BNATURE_3167.jpg          ছবিটি কোন ধর্মাবলম্বীদের প্রার্থনা স্থান?   \n",
       "1    BORNON_3694.jpg            এই মহিলাটি কোন ঐতিহ্যবাহী পোশাক পরেছেন?   \n",
       "2  CHITTRON_3491.png  চিত্র প্রদর্শিত মাছটি বাংলাদেশের কি হিসেবে অভি...   \n",
       "\n",
       "                                             options      answer  \\\n",
       "0         ['হিন্দু', 'মুসলিম', 'বৌদ্ধ', 'খ্রিস্টান']      মুসলিম   \n",
       "1  ['শাড়ি', 'কুর্তা', 'লেহেঙ্গা', 'সালোয়ার কামিজ']       শাড়ি   \n",
       "2  ['জাতীয় মাছ', 'সাধারণ মাছ', 'ছোট মাছ', 'কোনটি...  জাতীয় মাছ   \n",
       "\n",
       "         category  gen  \n",
       "0  Arts & History    2  \n",
       "1  Arts & History    1  \n",
       "2  Arts & History    1  "
      ]
     },
     "execution_count": 38,
     "metadata": {},
     "output_type": "execute_result"
    }
   ],
   "source": [
    "df.head(3)"
   ]
  },
  {
   "cell_type": "code",
   "execution_count": 16,
   "metadata": {},
   "outputs": [
    {
     "data": {
      "text/plain": [
       "6"
      ]
     },
     "execution_count": 16,
     "metadata": {},
     "output_type": "execute_result"
    }
   ],
   "source": [
    "list_numbers = [4, 5, 6, 7, 8, 9, 10]\n",
    "element = 10 # Not in the list\n",
    "list_numbers.index(element)"
   ]
  },
  {
   "cell_type": "code",
   "execution_count": null,
   "metadata": {},
   "outputs": [],
   "source": []
  },
  {
   "cell_type": "code",
   "execution_count": null,
   "metadata": {},
   "outputs": [],
   "source": []
  },
  {
   "cell_type": "code",
   "execution_count": null,
   "metadata": {},
   "outputs": [],
   "source": []
  },
  {
   "cell_type": "code",
   "execution_count": null,
   "metadata": {},
   "outputs": [],
   "source": []
  },
  {
   "cell_type": "code",
   "execution_count": null,
   "metadata": {},
   "outputs": [],
   "source": []
  }
 ],
 "metadata": {
  "kernelspec": {
   "display_name": "vqa-next-eInyQkxN-py3.10",
   "language": "python",
   "name": "python3"
  },
  "language_info": {
   "codemirror_mode": {
    "name": "ipython",
    "version": 3
   },
   "file_extension": ".py",
   "mimetype": "text/x-python",
   "name": "python",
   "nbconvert_exporter": "python",
   "pygments_lexer": "ipython3",
   "version": "3.10.12"
  }
 },
 "nbformat": 4,
 "nbformat_minor": 2
}
