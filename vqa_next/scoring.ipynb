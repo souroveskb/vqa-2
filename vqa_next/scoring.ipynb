{
 "cells": [
  {
   "cell_type": "code",
   "execution_count": 3,
   "metadata": {},
   "outputs": [],
   "source": [
    "import pandas as pd\n",
    "import re\n",
    "import ast"
   ]
  },
  {
   "cell_type": "code",
   "execution_count": 4,
   "metadata": {},
   "outputs": [
    {
     "data": {
      "text/html": [
       "<div>\n",
       "<style scoped>\n",
       "    .dataframe tbody tr th:only-of-type {\n",
       "        vertical-align: middle;\n",
       "    }\n",
       "\n",
       "    .dataframe tbody tr th {\n",
       "        vertical-align: top;\n",
       "    }\n",
       "\n",
       "    .dataframe thead th {\n",
       "        text-align: right;\n",
       "    }\n",
       "</style>\n",
       "<table border=\"1\" class=\"dataframe\">\n",
       "  <thead>\n",
       "    <tr style=\"text-align: right;\">\n",
       "      <th></th>\n",
       "      <th>filename</th>\n",
       "      <th>question</th>\n",
       "      <th>options</th>\n",
       "      <th>answer</th>\n",
       "      <th>category</th>\n",
       "      <th>id</th>\n",
       "      <th>openai_response</th>\n",
       "      <th>openai_response_parsed</th>\n",
       "      <th>score</th>\n",
       "    </tr>\n",
       "  </thead>\n",
       "  <tbody>\n",
       "    <tr>\n",
       "      <th>0</th>\n",
       "      <td>CHITTRON_7834.png</td>\n",
       "      <td>চিত্রের শিশুটি কোন ধরনের শিক্ষা গ্রহণ করছে?</td>\n",
       "      <td>['চারুকলা', 'গান', 'একাডেমিক', 'নৃত্য']</td>\n",
       "      <td>নৃত্য</td>\n",
       "      <td>Arts &amp; History</td>\n",
       "      <td>F3CH7834</td>\n",
       "      <td>answer: 4</td>\n",
       "      <td>নৃত্য</td>\n",
       "      <td>1</td>\n",
       "    </tr>\n",
       "    <tr>\n",
       "      <th>1</th>\n",
       "      <td>CHITTRON_3642.png</td>\n",
       "      <td>বাংলার মর্মান্তিক ইতিহাস বহনকারী এই স্তম্ভটির ...</td>\n",
       "      <td>['স্মৃতিসৌধ', 'শহীদ মিনার', 'রাজু ভাস্কর্য', '...</td>\n",
       "      <td>শহীদ মিনার</td>\n",
       "      <td>Arts &amp; History</td>\n",
       "      <td>P9CH3642</td>\n",
       "      <td>answer: 2</td>\n",
       "      <td>শহীদ মিনার</td>\n",
       "      <td>1</td>\n",
       "    </tr>\n",
       "    <tr>\n",
       "      <th>2</th>\n",
       "      <td>BORNON_215.jpg</td>\n",
       "      <td>ছবিতে দেখা মুদ্রাটি কোন দেশের?</td>\n",
       "      <td>['বাংলাদেশ', 'শ্রীলঙ্কা', 'ভারত', 'পাকিস্তান']</td>\n",
       "      <td>বাংলাদেশ</td>\n",
       "      <td>Arts &amp; History</td>\n",
       "      <td>P5BO215</td>\n",
       "      <td>answer: 1</td>\n",
       "      <td>বাংলাদেশ</td>\n",
       "      <td>1</td>\n",
       "    </tr>\n",
       "  </tbody>\n",
       "</table>\n",
       "</div>"
      ],
      "text/plain": [
       "            filename                                           question  \\\n",
       "0  CHITTRON_7834.png        চিত্রের শিশুটি কোন ধরনের শিক্ষা গ্রহণ করছে?   \n",
       "1  CHITTRON_3642.png  বাংলার মর্মান্তিক ইতিহাস বহনকারী এই স্তম্ভটির ...   \n",
       "2     BORNON_215.jpg                     ছবিতে দেখা মুদ্রাটি কোন দেশের?   \n",
       "\n",
       "                                             options      answer  \\\n",
       "0            ['চারুকলা', 'গান', 'একাডেমিক', 'নৃত্য']       নৃত্য   \n",
       "1  ['স্মৃতিসৌধ', 'শহীদ মিনার', 'রাজু ভাস্কর্য', '...  শহীদ মিনার   \n",
       "2     ['বাংলাদেশ', 'শ্রীলঙ্কা', 'ভারত', 'পাকিস্তান']    বাংলাদেশ   \n",
       "\n",
       "         category        id openai_response openai_response_parsed  score  \n",
       "0  Arts & History  F3CH7834       answer: 4                  নৃত্য      1  \n",
       "1  Arts & History  P9CH3642       answer: 2             শহীদ মিনার      1  \n",
       "2  Arts & History   P5BO215       answer: 1               বাংলাদেশ      1  "
      ]
     },
     "execution_count": 4,
     "metadata": {},
     "output_type": "execute_result"
    }
   ],
   "source": [
    "llava_path = 'outputs/test_data_openai.csv'\n",
    "llava_df = pd.read_csv(llava_path)\n",
    "\n",
    "llava_df.head(3)"
   ]
  },
  {
   "cell_type": "code",
   "execution_count": 4,
   "metadata": {},
   "outputs": [],
   "source": [
    "# llava_df.isna().sum() #BNATURE_1727"
   ]
  },
  {
   "cell_type": "markdown",
   "metadata": {},
   "source": [
    "### operations, parsing"
   ]
  },
  {
   "cell_type": "code",
   "execution_count": 29,
   "metadata": {},
   "outputs": [],
   "source": [
    "def extract_number(strings):\n",
    "    for s in strings:\n",
    "        match = re.search(r'\\d+', s)  \n",
    "        if match:\n",
    "            return int(match.group())  \n",
    "    return -1 "
   ]
  },
  {
   "cell_type": "code",
   "execution_count": 30,
   "metadata": {},
   "outputs": [],
   "source": [
    "def advanced_extract_number(strings):\n",
    "    if strings == -1:\n",
    "        return -1\n",
    "    for s in strings:\n",
    "        match = re.search(r'(answer:\\s*\\d+)', s, re.IGNORECASE)  # Prioritize \"answer: <number>\"\n",
    "        if match:\n",
    "            return int(match.group(1))  # Return the captured number\n",
    "\n",
    "    for s in strings:\n",
    "        match = re.search(r'\\d+', s)  # Fallback: Capture the first number\n",
    "        if match:\n",
    "            return int(match.group())  \n",
    "\n",
    "    return -1"
   ]
  },
  {
   "cell_type": "code",
   "execution_count": 31,
   "metadata": {},
   "outputs": [],
   "source": [
    "def translated_extract(strings):   \n",
    "    pattern = r'(answer:\\s*\\d+)'\n",
    "    match = re.search(pattern=pattern, string=strings)\n",
    "    if match:   \n",
    "        return match[0].strip()\n",
    "    else:\n",
    "        return -1"
   ]
  },
  {
   "cell_type": "code",
   "execution_count": 53,
   "metadata": {},
   "outputs": [],
   "source": [
    "# (translated_extract(test_string))"
   ]
  },
  {
   "cell_type": "code",
   "execution_count": 54,
   "metadata": {},
   "outputs": [],
   "source": [
    "# pf = llava_df[['filename'] == 'BORNON_3864.jpg']\n",
    "# str(llava_df[llava_df['filename'] == 'BORNON_3864.jpg']['llava_answer'])\n",
    "# llava_df['gemini_generated_large_parsed'] = llava_df['gemini_generated_large'].apply(translated_extract)\n",
    "llava_df['openai_response_parsed'] = llava_df['openai_response'].apply(extract_number)"
   ]
  },
  {
   "cell_type": "code",
   "execution_count": 55,
   "metadata": {},
   "outputs": [
    {
     "data": {
      "text/html": [
       "<div>\n",
       "<style scoped>\n",
       "    .dataframe tbody tr th:only-of-type {\n",
       "        vertical-align: middle;\n",
       "    }\n",
       "\n",
       "    .dataframe tbody tr th {\n",
       "        vertical-align: top;\n",
       "    }\n",
       "\n",
       "    .dataframe thead th {\n",
       "        text-align: right;\n",
       "    }\n",
       "</style>\n",
       "<table border=\"1\" class=\"dataframe\">\n",
       "  <thead>\n",
       "    <tr style=\"text-align: right;\">\n",
       "      <th></th>\n",
       "      <th>filename</th>\n",
       "      <th>question</th>\n",
       "      <th>options</th>\n",
       "      <th>answer</th>\n",
       "      <th>category</th>\n",
       "      <th>id</th>\n",
       "      <th>openai_response</th>\n",
       "      <th>openai_response_parsed</th>\n",
       "    </tr>\n",
       "  </thead>\n",
       "  <tbody>\n",
       "    <tr>\n",
       "      <th>0</th>\n",
       "      <td>CHITTRON_7834.png</td>\n",
       "      <td>চিত্রের শিশুটি কোন ধরনের শিক্ষা গ্রহণ করছে?</td>\n",
       "      <td>['চারুকলা', 'গান', 'একাডেমিক', 'নৃত্য']</td>\n",
       "      <td>নৃত্য</td>\n",
       "      <td>Arts &amp; History</td>\n",
       "      <td>F3CH7834</td>\n",
       "      <td>answer: 4</td>\n",
       "      <td>4</td>\n",
       "    </tr>\n",
       "    <tr>\n",
       "      <th>1</th>\n",
       "      <td>CHITTRON_3642.png</td>\n",
       "      <td>বাংলার মর্মান্তিক ইতিহাস বহনকারী এই স্তম্ভটির ...</td>\n",
       "      <td>['স্মৃতিসৌধ', 'শহীদ মিনার', 'রাজু ভাস্কর্য', '...</td>\n",
       "      <td>শহীদ মিনার</td>\n",
       "      <td>Arts &amp; History</td>\n",
       "      <td>P9CH3642</td>\n",
       "      <td>answer: 2</td>\n",
       "      <td>2</td>\n",
       "    </tr>\n",
       "    <tr>\n",
       "      <th>2</th>\n",
       "      <td>BORNON_215.jpg</td>\n",
       "      <td>ছবিতে দেখা মুদ্রাটি কোন দেশের?</td>\n",
       "      <td>['বাংলাদেশ', 'শ্রীলঙ্কা', 'ভারত', 'পাকিস্তান']</td>\n",
       "      <td>বাংলাদেশ</td>\n",
       "      <td>Arts &amp; History</td>\n",
       "      <td>P5BO215</td>\n",
       "      <td>answer: 1</td>\n",
       "      <td>1</td>\n",
       "    </tr>\n",
       "  </tbody>\n",
       "</table>\n",
       "</div>"
      ],
      "text/plain": [
       "            filename                                           question  \\\n",
       "0  CHITTRON_7834.png        চিত্রের শিশুটি কোন ধরনের শিক্ষা গ্রহণ করছে?   \n",
       "1  CHITTRON_3642.png  বাংলার মর্মান্তিক ইতিহাস বহনকারী এই স্তম্ভটির ...   \n",
       "2     BORNON_215.jpg                     ছবিতে দেখা মুদ্রাটি কোন দেশের?   \n",
       "\n",
       "                                             options      answer  \\\n",
       "0            ['চারুকলা', 'গান', 'একাডেমিক', 'নৃত্য']       নৃত্য   \n",
       "1  ['স্মৃতিসৌধ', 'শহীদ মিনার', 'রাজু ভাস্কর্য', '...  শহীদ মিনার   \n",
       "2     ['বাংলাদেশ', 'শ্রীলঙ্কা', 'ভারত', 'পাকিস্তান']    বাংলাদেশ   \n",
       "\n",
       "         category        id openai_response  openai_response_parsed  \n",
       "0  Arts & History  F3CH7834       answer: 4                       4  \n",
       "1  Arts & History  P9CH3642       answer: 2                       2  \n",
       "2  Arts & History   P5BO215       answer: 1                       1  "
      ]
     },
     "execution_count": 55,
     "metadata": {},
     "output_type": "execute_result"
    }
   ],
   "source": [
    "llava_df.head(3)"
   ]
  },
  {
   "cell_type": "code",
   "execution_count": 56,
   "metadata": {},
   "outputs": [
    {
     "data": {
      "text/html": [
       "<div>\n",
       "<style scoped>\n",
       "    .dataframe tbody tr th:only-of-type {\n",
       "        vertical-align: middle;\n",
       "    }\n",
       "\n",
       "    .dataframe tbody tr th {\n",
       "        vertical-align: top;\n",
       "    }\n",
       "\n",
       "    .dataframe thead th {\n",
       "        text-align: right;\n",
       "    }\n",
       "</style>\n",
       "<table border=\"1\" class=\"dataframe\">\n",
       "  <thead>\n",
       "    <tr style=\"text-align: right;\">\n",
       "      <th></th>\n",
       "      <th>filename</th>\n",
       "      <th>question</th>\n",
       "      <th>options</th>\n",
       "      <th>answer</th>\n",
       "      <th>category</th>\n",
       "      <th>id</th>\n",
       "      <th>openai_response</th>\n",
       "      <th>openai_response_parsed</th>\n",
       "    </tr>\n",
       "  </thead>\n",
       "  <tbody>\n",
       "  </tbody>\n",
       "</table>\n",
       "</div>"
      ],
      "text/plain": [
       "Empty DataFrame\n",
       "Columns: [filename, question, options, answer, category, id, openai_response, openai_response_parsed]\n",
       "Index: []"
      ]
     },
     "execution_count": 56,
     "metadata": {},
     "output_type": "execute_result"
    }
   ],
   "source": [
    "# llava_df.to_csv(llava_path, index=False)\n",
    "llava_df[llava_df['openai_response_parsed'] == -1]"
   ]
  },
  {
   "cell_type": "code",
   "execution_count": 37,
   "metadata": {},
   "outputs": [],
   "source": [
    "def substitute_answer(row):\n",
    "    idx = row['gemini_generated_fixed_parsed']\n",
    "    options = ast.literal_eval(row['options'])\n",
    "    if idx == -1:# or idx-1 >= len(options):\n",
    "        return -1\n",
    "    # print(options, idx)\n",
    "    # print(options[int(idx)-1])\n",
    "    return options[int(idx)-1]"
   ]
  },
  {
   "cell_type": "markdown",
   "metadata": {},
   "source": [
    "CHITTRON_414"
   ]
  },
  {
   "cell_type": "code",
   "execution_count": 58,
   "metadata": {},
   "outputs": [],
   "source": [
    "llava_df['openai_response_parsed'] = llava_df.apply(lambda row: substitute_answer(row), axis=1)"
   ]
  },
  {
   "cell_type": "code",
   "execution_count": 59,
   "metadata": {},
   "outputs": [
    {
     "data": {
      "text/html": [
       "<div>\n",
       "<style scoped>\n",
       "    .dataframe tbody tr th:only-of-type {\n",
       "        vertical-align: middle;\n",
       "    }\n",
       "\n",
       "    .dataframe tbody tr th {\n",
       "        vertical-align: top;\n",
       "    }\n",
       "\n",
       "    .dataframe thead th {\n",
       "        text-align: right;\n",
       "    }\n",
       "</style>\n",
       "<table border=\"1\" class=\"dataframe\">\n",
       "  <thead>\n",
       "    <tr style=\"text-align: right;\">\n",
       "      <th></th>\n",
       "      <th>filename</th>\n",
       "      <th>question</th>\n",
       "      <th>options</th>\n",
       "      <th>answer</th>\n",
       "      <th>category</th>\n",
       "      <th>id</th>\n",
       "      <th>openai_response</th>\n",
       "      <th>openai_response_parsed</th>\n",
       "    </tr>\n",
       "  </thead>\n",
       "  <tbody>\n",
       "    <tr>\n",
       "      <th>0</th>\n",
       "      <td>CHITTRON_7834.png</td>\n",
       "      <td>চিত্রের শিশুটি কোন ধরনের শিক্ষা গ্রহণ করছে?</td>\n",
       "      <td>['চারুকলা', 'গান', 'একাডেমিক', 'নৃত্য']</td>\n",
       "      <td>নৃত্য</td>\n",
       "      <td>Arts &amp; History</td>\n",
       "      <td>F3CH7834</td>\n",
       "      <td>answer: 4</td>\n",
       "      <td>নৃত্য</td>\n",
       "    </tr>\n",
       "    <tr>\n",
       "      <th>1</th>\n",
       "      <td>CHITTRON_3642.png</td>\n",
       "      <td>বাংলার মর্মান্তিক ইতিহাস বহনকারী এই স্তম্ভটির ...</td>\n",
       "      <td>['স্মৃতিসৌধ', 'শহীদ মিনার', 'রাজু ভাস্কর্য', '...</td>\n",
       "      <td>শহীদ মিনার</td>\n",
       "      <td>Arts &amp; History</td>\n",
       "      <td>P9CH3642</td>\n",
       "      <td>answer: 2</td>\n",
       "      <td>শহীদ মিনার</td>\n",
       "    </tr>\n",
       "    <tr>\n",
       "      <th>2</th>\n",
       "      <td>BORNON_215.jpg</td>\n",
       "      <td>ছবিতে দেখা মুদ্রাটি কোন দেশের?</td>\n",
       "      <td>['বাংলাদেশ', 'শ্রীলঙ্কা', 'ভারত', 'পাকিস্তান']</td>\n",
       "      <td>বাংলাদেশ</td>\n",
       "      <td>Arts &amp; History</td>\n",
       "      <td>P5BO215</td>\n",
       "      <td>answer: 1</td>\n",
       "      <td>বাংলাদেশ</td>\n",
       "    </tr>\n",
       "  </tbody>\n",
       "</table>\n",
       "</div>"
      ],
      "text/plain": [
       "            filename                                           question  \\\n",
       "0  CHITTRON_7834.png        চিত্রের শিশুটি কোন ধরনের শিক্ষা গ্রহণ করছে?   \n",
       "1  CHITTRON_3642.png  বাংলার মর্মান্তিক ইতিহাস বহনকারী এই স্তম্ভটির ...   \n",
       "2     BORNON_215.jpg                     ছবিতে দেখা মুদ্রাটি কোন দেশের?   \n",
       "\n",
       "                                             options      answer  \\\n",
       "0            ['চারুকলা', 'গান', 'একাডেমিক', 'নৃত্য']       নৃত্য   \n",
       "1  ['স্মৃতিসৌধ', 'শহীদ মিনার', 'রাজু ভাস্কর্য', '...  শহীদ মিনার   \n",
       "2     ['বাংলাদেশ', 'শ্রীলঙ্কা', 'ভারত', 'পাকিস্তান']    বাংলাদেশ   \n",
       "\n",
       "         category        id openai_response openai_response_parsed  \n",
       "0  Arts & History  F3CH7834       answer: 4                  নৃত্য  \n",
       "1  Arts & History  P9CH3642       answer: 2             শহীদ মিনার  \n",
       "2  Arts & History   P5BO215       answer: 1               বাংলাদেশ  "
      ]
     },
     "execution_count": 59,
     "metadata": {},
     "output_type": "execute_result"
    }
   ],
   "source": [
    "llava_df.head(3)"
   ]
  },
  {
   "cell_type": "code",
   "execution_count": 67,
   "metadata": {},
   "outputs": [],
   "source": [
    "## SCORE ASSIGN\n",
    "# llava_df['score'] = (llava_df['answer'] == llava_df['openai_response_parsed']).astype(int)\n",
    "# llava_df.head(3)\n",
    "\n",
    "# llava_df.to_csv(llava_path, index= False)"
   ]
  },
  {
   "cell_type": "markdown",
   "metadata": {},
   "source": [
    "#### find out the IDs of wrong answers"
   ]
  },
  {
   "cell_type": "code",
   "execution_count": 166,
   "metadata": {},
   "outputs": [
    {
     "name": "stdout",
     "output_type": "stream",
     "text": [
      "['P1CH496', 'F1CH4688', 'P1CH4894', 'P3BN1109', 'P7BN7212', 'P2CH6109', 'P1CH5416', 'P7BN6558', 'P7BN7793', 'F1CH4710', 'F3CH768', 'P7BN6715', 'P5BO3331', 'P4BN1182', 'P10BO1089', 'P9CH3119', 'P6BN5289', 'P4BN1295', 'P6BN5236', 'F4BN1781', 'F5BN2963', 'F4BN2482', 'P1CH4569', 'F5BN3058', 'F1CH5106', 'P10BO2293', 'P7BN974', 'P1CH4452', 'P7BN781', 'F1CH5212', 'P7BN6989', 'P5BN350', 'P5BN307', 'F1CH5299', 'F1CH5300', 'F1CH4093', 'P4BN1347', 'P4BN1491', 'P8CH1612', 'P5BO2876', 'P6BN4978', 'P1CH411', 'P7BN7449', 'P1CH5426', 'P5BO3976', 'P5BN3792', 'F2CH5843', 'P9BO2835', 'P10BO2870', 'P1CH4741', 'P9BO2563', 'P3BN11', 'P11BO2960', 'F5BN3032', 'F1CH51', 'P9CH2960', 'P4BN1555', 'P5BO2816', 'P8CH2145', 'P7BN820', 'P1CH4898', 'P7BN6676', 'P7BN6674', 'P10BO1333', 'P10BO1339', 'P7BN7684', 'P1CH4396', 'P9BO2897', 'P10BO3074', 'P6BN5241', 'P9BO2861', 'P1CH465', 'P10BO3160', 'F2CH588', 'P9BO1214', 'P2CH5783', 'P1CH5472', 'P5BO2347', 'P7BN7718', 'F4BN1727', 'P7BN7659', 'P5BN3385', 'P10BO2199', 'P7CH8388', 'P1CH5465', 'P6BN5131', 'P10BO1704', 'P1CH4505', 'P10BO169', 'P7BN7566', 'P1CH4835', 'P6BN4871', 'P7BN7967', 'F3CH7929', 'P5BN3283', 'P1CH5428', 'F1CH482']\n"
     ]
    }
   ],
   "source": [
    "mismatched_ids = llava_df.loc[llava_df['openai_response_parsed'] != llava_df['answer'], 'id']\n",
    "print(mismatched_ids.tolist())"
   ]
  },
  {
   "cell_type": "code",
   "execution_count": 184,
   "metadata": {},
   "outputs": [
    {
     "data": {
      "text/plain": [
       "openai_response_parsed\n",
       "1    267\n",
       "2    121\n",
       "3     95\n",
       "4     57\n",
       "Name: count, dtype: int64"
      ]
     },
     "execution_count": 184,
     "metadata": {},
     "output_type": "execute_result"
    }
   ],
   "source": [
    "llava_df['openai_response_parsed'].value_counts()"
   ]
  },
  {
   "cell_type": "code",
   "execution_count": 174,
   "metadata": {},
   "outputs": [
    {
     "data": {
      "text/plain": [
       "gemini_generated_large_parsed\n",
       "4    266\n",
       "2    142\n",
       "3     78\n",
       "1     54\n",
       "Name: count, dtype: int64"
      ]
     },
     "execution_count": 174,
     "metadata": {},
     "output_type": "execute_result"
    }
   ],
   "source": [
    "llava_df['gemini_generated_large_parsed'].value_counts()"
   ]
  },
  {
   "cell_type": "markdown",
   "metadata": {},
   "source": [
    "### llava accuracy"
   ]
  },
  {
   "cell_type": "code",
   "execution_count": 11,
   "metadata": {},
   "outputs": [
    {
     "name": "stdout",
     "output_type": "stream",
     "text": [
      "Exact Match Similarity: 46.85%\n"
     ]
    }
   ],
   "source": [
    "similar_count = (llava_df['answer'] == llava_df['llava_answer_parsed']).sum()\n",
    "total_count = len(llava_df)\n",
    "\n",
    "similarity_percentage = (similar_count / total_count) * 100\n",
    "print(f\"Exact Match Similarity: {similarity_percentage:.2f}%\")\n"
   ]
  },
  {
   "cell_type": "code",
   "execution_count": 12,
   "metadata": {},
   "outputs": [
    {
     "name": "stdout",
     "output_type": "stream",
     "text": [
      "category\n",
      "Arts & History        45.000000\n",
      "Clothing & Fashion    38.333333\n",
      "Cultural Festivals    41.666667\n",
      "Food                  45.000000\n",
      "Incidents             41.666667\n",
      "Nature                50.000000\n",
      "Religious Events      51.666667\n",
      "Social Life           56.666667\n",
      "Sports                51.666667\n",
      "dtype: float64\n"
     ]
    },
    {
     "name": "stderr",
     "output_type": "stream",
     "text": [
      "/tmp/ipykernel_9744/2151903536.py:3: DeprecationWarning: DataFrameGroupBy.apply operated on the grouping columns. This behavior is deprecated, and in a future version of pandas the grouping columns will be excluded from the operation. Either pass `include_groups=False` to exclude the groupings or explicitly select the grouping columns after groupby to silence this warning.\n",
      "  .apply(lambda df: (df['answer'] == df['llava_answer_parsed']).sum() / len(df) * 100)\n"
     ]
    }
   ],
   "source": [
    "similarity_by_category = (\n",
    "    llava_df.groupby('category')\n",
    "    .apply(lambda df: (df['answer'] == df['llava_answer_parsed']).sum() / len(df) * 100)\n",
    ")\n",
    "\n",
    "print(similarity_by_category)\n"
   ]
  },
  {
   "cell_type": "markdown",
   "metadata": {},
   "source": [
    "### openai accuracy"
   ]
  },
  {
   "cell_type": "code",
   "execution_count": 34,
   "metadata": {},
   "outputs": [
    {
     "name": "stdout",
     "output_type": "stream",
     "text": [
      "Exact Match Similarity: 82.04%\n"
     ]
    }
   ],
   "source": [
    "similar_count = (llava_df['answer'] == llava_df['openai_response_parsed']).sum()\n",
    "total_count = len(llava_df)\n",
    "\n",
    "similarity_percentage = (similar_count / total_count) * 100\n",
    "print(f\"Accuracy OpenAI: {similarity_percentage:.2f}%\")"
   ]
  },
  {
   "cell_type": "code",
   "execution_count": 35,
   "metadata": {},
   "outputs": [
    {
     "name": "stdout",
     "output_type": "stream",
     "text": [
      "category\n",
      "Arts & History        76.666667\n",
      "Clothing & Fashion    83.333333\n",
      "Cultural Festivals    71.666667\n",
      "Food                  80.000000\n",
      "Incidents             83.333333\n",
      "Nature                83.333333\n",
      "Religious Events      80.000000\n",
      "Social Life           86.666667\n",
      "Sports                93.333333\n",
      "dtype: float64\n"
     ]
    },
    {
     "name": "stderr",
     "output_type": "stream",
     "text": [
      "/tmp/ipykernel_9744/3360561580.py:3: DeprecationWarning: DataFrameGroupBy.apply operated on the grouping columns. This behavior is deprecated, and in a future version of pandas the grouping columns will be excluded from the operation. Either pass `include_groups=False` to exclude the groupings or explicitly select the grouping columns after groupby to silence this warning.\n",
      "  .apply(lambda df: (df['answer'] == df['openai_response_parsed']).sum() / len(df) * 100)\n"
     ]
    }
   ],
   "source": [
    "similarity_by_category = (\n",
    "    llava_df.groupby('category')\n",
    "    .apply(lambda df: (df['answer'] == df['openai_response_parsed']).sum() / len(df) * 100)\n",
    ")\n",
    "\n",
    "print(similarity_by_category)\n",
    "#openai"
   ]
  },
  {
   "cell_type": "code",
   "execution_count": null,
   "metadata": {},
   "outputs": [],
   "source": []
  },
  {
   "cell_type": "markdown",
   "metadata": {},
   "source": [
    "### claude"
   ]
  },
  {
   "cell_type": "code",
   "execution_count": 30,
   "metadata": {},
   "outputs": [
    {
     "name": "stdout",
     "output_type": "stream",
     "text": [
      "Exact Match Similarity: 82.04%\n"
     ]
    }
   ],
   "source": [
    "similar_count = (llava_df['answer'] == llava_df['claude_response_parsed']).sum()\n",
    "total_count = len(llava_df)\n",
    "\n",
    "similarity_percentage = (similar_count / total_count) * 100\n",
    "print(f\"Accuracy claude: {similarity_percentage:.2f}%\")"
   ]
  },
  {
   "cell_type": "code",
   "execution_count": 31,
   "metadata": {},
   "outputs": [
    {
     "name": "stdout",
     "output_type": "stream",
     "text": [
      "category\n",
      "Arts & History        76.666667\n",
      "Clothing & Fashion    78.333333\n",
      "Cultural Festivals    75.000000\n",
      "Food                  85.000000\n",
      "Incidents             85.000000\n",
      "Nature                81.666667\n",
      "Religious Events      85.000000\n",
      "Social Life           85.000000\n",
      "Sports                86.666667\n",
      "dtype: float64\n"
     ]
    },
    {
     "name": "stderr",
     "output_type": "stream",
     "text": [
      "/tmp/ipykernel_67586/2390341896.py:3: DeprecationWarning: DataFrameGroupBy.apply operated on the grouping columns. This behavior is deprecated, and in a future version of pandas the grouping columns will be excluded from the operation. Either pass `include_groups=False` to exclude the groupings or explicitly select the grouping columns after groupby to silence this warning.\n",
      "  .apply(lambda df: (df['answer'] == df['claude_response_parsed']).sum() / len(df) * 100)\n"
     ]
    }
   ],
   "source": [
    "similarity_by_category = (\n",
    "    llava_df.groupby('category')\n",
    "    .apply(lambda df: (df['answer'] == df['claude_response_parsed']).sum() / len(df) * 100)\n",
    ")\n",
    "\n",
    "print(similarity_by_category)"
   ]
  },
  {
   "cell_type": "markdown",
   "metadata": {},
   "source": [
    "### openai translated"
   ]
  },
  {
   "cell_type": "code",
   "execution_count": 67,
   "metadata": {},
   "outputs": [
    {
     "name": "stdout",
     "output_type": "stream",
     "text": [
      "Accuracy OpenAI translated: 82.78%\n"
     ]
    }
   ],
   "source": [
    "similar_count = (llava_df['answer'] == llava_df['openai_translated_response_parsed']).sum()\n",
    "total_count = len(llava_df)\n",
    "\n",
    "similarity_percentage = (similar_count / total_count) * 100\n",
    "print(f\"Accuracy OpenAI translated: {similarity_percentage:.2f}%\")"
   ]
  },
  {
   "cell_type": "code",
   "execution_count": 68,
   "metadata": {},
   "outputs": [
    {
     "name": "stdout",
     "output_type": "stream",
     "text": [
      "category\n",
      "Arts & History        70.000000\n",
      "Clothing & Fashion    85.000000\n",
      "Cultural Festivals    75.000000\n",
      "Food                  88.333333\n",
      "Incidents             88.333333\n",
      "Nature                83.333333\n",
      "Religious Events      83.333333\n",
      "Social Life           85.000000\n",
      "Sports                86.666667\n",
      "dtype: float64\n"
     ]
    },
    {
     "name": "stderr",
     "output_type": "stream",
     "text": [
      "/tmp/ipykernel_23246/3058924983.py:3: DeprecationWarning: DataFrameGroupBy.apply operated on the grouping columns. This behavior is deprecated, and in a future version of pandas the grouping columns will be excluded from the operation. Either pass `include_groups=False` to exclude the groupings or explicitly select the grouping columns after groupby to silence this warning.\n",
      "  .apply(lambda df: (df['answer'] == df['openai_translated_response_parsed']).sum() / len(df) * 100)\n"
     ]
    }
   ],
   "source": [
    "similarity_by_category = (\n",
    "    llava_df.groupby('category')\n",
    "    .apply(lambda df: (df['answer'] == df['openai_translated_response_parsed']).sum() / len(df) * 100)\n",
    ")\n",
    "\n",
    "print(similarity_by_category)"
   ]
  },
  {
   "cell_type": "code",
   "execution_count": null,
   "metadata": {},
   "outputs": [],
   "source": []
  },
  {
   "cell_type": "markdown",
   "metadata": {},
   "source": [
    "### gemini generated"
   ]
  },
  {
   "cell_type": "code",
   "execution_count": 28,
   "metadata": {},
   "outputs": [
    {
     "data": {
      "text/html": [
       "<div>\n",
       "<style scoped>\n",
       "    .dataframe tbody tr th:only-of-type {\n",
       "        vertical-align: middle;\n",
       "    }\n",
       "\n",
       "    .dataframe tbody tr th {\n",
       "        vertical-align: top;\n",
       "    }\n",
       "\n",
       "    .dataframe thead th {\n",
       "        text-align: right;\n",
       "    }\n",
       "</style>\n",
       "<table border=\"1\" class=\"dataframe\">\n",
       "  <thead>\n",
       "    <tr style=\"text-align: right;\">\n",
       "      <th></th>\n",
       "      <th>filename</th>\n",
       "      <th>question</th>\n",
       "      <th>options</th>\n",
       "      <th>answer</th>\n",
       "      <th>category</th>\n",
       "      <th>id</th>\n",
       "      <th>openai_response</th>\n",
       "      <th>gemini_generated</th>\n",
       "      <th>gemini_generated_large</th>\n",
       "      <th>gemini_generated_fixed</th>\n",
       "    </tr>\n",
       "  </thead>\n",
       "  <tbody>\n",
       "    <tr>\n",
       "      <th>0</th>\n",
       "      <td>CHITTRON_7834.png</td>\n",
       "      <td>চিত্রের শিশুটি কোন ধরনের শিক্ষা গ্রহণ করছে?</td>\n",
       "      <td>['চারুকলা', 'গান', 'একাডেমিক', 'নৃত্য']</td>\n",
       "      <td>নৃত্য</td>\n",
       "      <td>Arts &amp; History</td>\n",
       "      <td>F3CH7834</td>\n",
       "      <td>answer: 4</td>\n",
       "      <td>answer: 3</td>\n",
       "      <td>answer: 2\\n</td>\n",
       "      <td>answer: 4</td>\n",
       "    </tr>\n",
       "  </tbody>\n",
       "</table>\n",
       "</div>"
      ],
      "text/plain": [
       "            filename                                     question  \\\n",
       "0  CHITTRON_7834.png  চিত্রের শিশুটি কোন ধরনের শিক্ষা গ্রহণ করছে?   \n",
       "\n",
       "                                   options answer        category        id  \\\n",
       "0  ['চারুকলা', 'গান', 'একাডেমিক', 'নৃত্য']  নৃত্য  Arts & History  F3CH7834   \n",
       "\n",
       "  openai_response gemini_generated gemini_generated_large  \\\n",
       "0       answer: 4        answer: 3            answer: 2\\n   \n",
       "\n",
       "  gemini_generated_fixed  \n",
       "0              answer: 4  "
      ]
     },
     "execution_count": 28,
     "metadata": {},
     "output_type": "execute_result"
    }
   ],
   "source": [
    "gemini_df = pd.read_csv(\"outputs/gemini_generated_fixed.csv\")\n",
    "\n",
    "gemini_df.head(1)"
   ]
  },
  {
   "cell_type": "code",
   "execution_count": 39,
   "metadata": {},
   "outputs": [
    {
     "name": "stdout",
     "output_type": "stream",
     "text": [
      "gemini_generated_fixed_parsed\n",
      "2    282\n",
      "1    151\n",
      "3     62\n",
      "4     45\n",
      "Name: count, dtype: int64\n"
     ]
    }
   ],
   "source": [
    "gemini_df['gemini_generated_fixed_parsed'] = gemini_df['gemini_generated_fixed'].apply(extract_number)\n",
    "\n",
    "print(gemini_df['gemini_generated_fixed_parsed'].value_counts())\n",
    "\n",
    "gemini_df['gemini_generated_fixed_parsed'] = gemini_df.apply(lambda row: substitute_answer(row), axis=1)"
   ]
  },
  {
   "cell_type": "code",
   "execution_count": 41,
   "metadata": {},
   "outputs": [
    {
     "name": "stdout",
     "output_type": "stream",
     "text": [
      "Accuracy gemini: 62.59%\n"
     ]
    }
   ],
   "source": [
    "similar_count = (gemini_df['answer'] == gemini_df['gemini_generated_fixed_parsed']).sum()\n",
    "total_count = len(gemini_df)\n",
    "\n",
    "similarity_percentage = (similar_count / total_count) * 100\n",
    "print(f\"Accuracy gemini: {similarity_percentage:.2f}%\")"
   ]
  },
  {
   "cell_type": "code",
   "execution_count": 44,
   "metadata": {},
   "outputs": [
    {
     "name": "stdout",
     "output_type": "stream",
     "text": [
      "category\n",
      "Arts & History        81.666667\n",
      "Clothing & Fashion    86.666667\n",
      "Cultural Festivals    88.333333\n",
      "Food                  91.666667\n",
      "Incidents             93.333333\n",
      "Nature                40.000000\n",
      "Religious Events      26.666667\n",
      "Social Life           30.000000\n",
      "Sports                25.000000\n",
      "dtype: float64\n"
     ]
    },
    {
     "name": "stderr",
     "output_type": "stream",
     "text": [
      "/tmp/ipykernel_12224/4235448764.py:3: DeprecationWarning: DataFrameGroupBy.apply operated on the grouping columns. This behavior is deprecated, and in a future version of pandas the grouping columns will be excluded from the operation. Either pass `include_groups=False` to exclude the groupings or explicitly select the grouping columns after groupby to silence this warning.\n",
      "  .apply(lambda df: (df['answer'] == df['gemini_generated_fixed_parsed']).sum() / len(df) * 100)\n"
     ]
    }
   ],
   "source": [
    "similarity_by_category = (\n",
    "    gemini_df.groupby('category')\n",
    "    .apply(lambda df: (df['answer'] == df['gemini_generated_fixed_parsed']).sum() / len(df) * 100)\n",
    ")\n",
    "\n",
    "print(similarity_by_category)"
   ]
  },
  {
   "cell_type": "markdown",
   "metadata": {},
   "source": [
    "### Cultural openai"
   ]
  },
  {
   "cell_type": "code",
   "execution_count": 264,
   "metadata": {},
   "outputs": [
    {
     "name": "stdout",
     "output_type": "stream",
     "text": [
      "Accuracy Cultural OPENAI: 83.15%\n"
     ]
    }
   ],
   "source": [
    "similar_count = (llava_df['answer'] == llava_df['openai_cultural_response_parsed']).sum()\n",
    "total_count = len(llava_df)\n",
    "\n",
    "similarity_percentage = (similar_count / total_count) * 100\n",
    "print(f\"Accuracy Cultural OPENAI: {similarity_percentage:.2f}%\")"
   ]
  },
  {
   "cell_type": "code",
   "execution_count": 265,
   "metadata": {},
   "outputs": [
    {
     "name": "stdout",
     "output_type": "stream",
     "text": [
      "category\n",
      "Arts & History        78.333333\n",
      "Clothing & Fashion    83.333333\n",
      "Cultural Festivals    81.666667\n",
      "Food                  81.666667\n",
      "Incidents             88.333333\n",
      "Nature                80.000000\n",
      "Religious Events      83.333333\n",
      "Social Life           83.333333\n",
      "Sports                88.333333\n",
      "dtype: float64\n"
     ]
    },
    {
     "name": "stderr",
     "output_type": "stream",
     "text": [
      "/tmp/ipykernel_23246/139392387.py:3: DeprecationWarning: DataFrameGroupBy.apply operated on the grouping columns. This behavior is deprecated, and in a future version of pandas the grouping columns will be excluded from the operation. Either pass `include_groups=False` to exclude the groupings or explicitly select the grouping columns after groupby to silence this warning.\n",
      "  .apply(lambda df: (df['answer'] == df['openai_cultural_response_parsed']).sum() / len(df) * 100)\n"
     ]
    }
   ],
   "source": [
    "similarity_by_category = (\n",
    "    llava_df.groupby('category')\n",
    "    .apply(lambda df: (df['answer'] == df['openai_cultural_response_parsed']).sum() / len(df) * 100)\n",
    ")\n",
    "\n",
    "print(similarity_by_category)"
   ]
  },
  {
   "cell_type": "markdown",
   "metadata": {},
   "source": [
    "### Descriptive OPenai"
   ]
  },
  {
   "cell_type": "code",
   "execution_count": 31,
   "metadata": {},
   "outputs": [
    {
     "name": "stdout",
     "output_type": "stream",
     "text": [
      "Accuracy Descriptive OPENAI: 81.30%\n"
     ]
    }
   ],
   "source": [
    "similar_count = (llava_df['answer'] == llava_df['openai_description_response_parsed']).sum()\n",
    "total_count = len(llava_df)\n",
    "\n",
    "similarity_percentage = (similar_count / total_count) * 100\n",
    "print(f\"Accuracy Descriptive OPENAI: {similarity_percentage:.2f}%\")"
   ]
  },
  {
   "cell_type": "code",
   "execution_count": 32,
   "metadata": {},
   "outputs": [
    {
     "name": "stdout",
     "output_type": "stream",
     "text": [
      "category\n",
      "Arts & History        68.333333\n",
      "Clothing & Fashion    81.666667\n",
      "Cultural Festivals    73.333333\n",
      "Food                  83.333333\n",
      "Incidents             86.666667\n",
      "Nature                83.333333\n",
      "Religious Events      81.666667\n",
      "Social Life           85.000000\n",
      "Sports                88.333333\n",
      "dtype: float64\n"
     ]
    },
    {
     "name": "stderr",
     "output_type": "stream",
     "text": [
      "/tmp/ipykernel_33275/1968838929.py:3: DeprecationWarning: DataFrameGroupBy.apply operated on the grouping columns. This behavior is deprecated, and in a future version of pandas the grouping columns will be excluded from the operation. Either pass `include_groups=False` to exclude the groupings or explicitly select the grouping columns after groupby to silence this warning.\n",
      "  .apply(lambda df: (df['answer'] == df['openai_description_response_parsed']).sum() / len(df) * 100)\n"
     ]
    }
   ],
   "source": [
    "similarity_by_category = (\n",
    "    llava_df.groupby('category')\n",
    "    .apply(lambda df: (df['answer'] == df['openai_description_response_parsed']).sum() / len(df) * 100)\n",
    ")\n",
    "\n",
    "print(similarity_by_category)"
   ]
  },
  {
   "cell_type": "markdown",
   "metadata": {},
   "source": [
    "### Scenegraph OpneAi"
   ]
  },
  {
   "cell_type": "code",
   "execution_count": 91,
   "metadata": {},
   "outputs": [
    {
     "ename": "KeyError",
     "evalue": "'openai_scenegraph_response_parsed'",
     "output_type": "error",
     "traceback": [
      "\u001b[0;31m---------------------------------------------------------------------------\u001b[0m",
      "\u001b[0;31mKeyError\u001b[0m                                  Traceback (most recent call last)",
      "File \u001b[0;32m~/.cache/pypoetry/virtualenvs/vqa-next-eInyQkxN-py3.10/lib/python3.10/site-packages/pandas/core/indexes/base.py:3805\u001b[0m, in \u001b[0;36mIndex.get_loc\u001b[0;34m(self, key)\u001b[0m\n\u001b[1;32m   3804\u001b[0m \u001b[38;5;28;01mtry\u001b[39;00m:\n\u001b[0;32m-> 3805\u001b[0m     \u001b[38;5;28;01mreturn\u001b[39;00m \u001b[38;5;28;43mself\u001b[39;49m\u001b[38;5;241;43m.\u001b[39;49m\u001b[43m_engine\u001b[49m\u001b[38;5;241;43m.\u001b[39;49m\u001b[43mget_loc\u001b[49m\u001b[43m(\u001b[49m\u001b[43mcasted_key\u001b[49m\u001b[43m)\u001b[49m\n\u001b[1;32m   3806\u001b[0m \u001b[38;5;28;01mexcept\u001b[39;00m \u001b[38;5;167;01mKeyError\u001b[39;00m \u001b[38;5;28;01mas\u001b[39;00m err:\n",
      "File \u001b[0;32mindex.pyx:167\u001b[0m, in \u001b[0;36mpandas._libs.index.IndexEngine.get_loc\u001b[0;34m()\u001b[0m\n",
      "File \u001b[0;32mindex.pyx:196\u001b[0m, in \u001b[0;36mpandas._libs.index.IndexEngine.get_loc\u001b[0;34m()\u001b[0m\n",
      "File \u001b[0;32mpandas/_libs/hashtable_class_helper.pxi:7081\u001b[0m, in \u001b[0;36mpandas._libs.hashtable.PyObjectHashTable.get_item\u001b[0;34m()\u001b[0m\n",
      "File \u001b[0;32mpandas/_libs/hashtable_class_helper.pxi:7089\u001b[0m, in \u001b[0;36mpandas._libs.hashtable.PyObjectHashTable.get_item\u001b[0;34m()\u001b[0m\n",
      "\u001b[0;31mKeyError\u001b[0m: 'openai_scenegraph_response_parsed'",
      "\nThe above exception was the direct cause of the following exception:\n",
      "\u001b[0;31mKeyError\u001b[0m                                  Traceback (most recent call last)",
      "Cell \u001b[0;32mIn[91], line 1\u001b[0m\n\u001b[0;32m----> 1\u001b[0m similar_count \u001b[38;5;241m=\u001b[39m (llava_df[\u001b[38;5;124m'\u001b[39m\u001b[38;5;124manswer\u001b[39m\u001b[38;5;124m'\u001b[39m] \u001b[38;5;241m==\u001b[39m \u001b[43mllava_df\u001b[49m\u001b[43m[\u001b[49m\u001b[38;5;124;43m'\u001b[39;49m\u001b[38;5;124;43mopenai_scenegraph_response_parsed\u001b[39;49m\u001b[38;5;124;43m'\u001b[39;49m\u001b[43m]\u001b[49m)\u001b[38;5;241m.\u001b[39msum()\n\u001b[1;32m      2\u001b[0m total_count \u001b[38;5;241m=\u001b[39m \u001b[38;5;28mlen\u001b[39m(llava_df)\n\u001b[1;32m      4\u001b[0m similarity_percentage \u001b[38;5;241m=\u001b[39m (similar_count \u001b[38;5;241m/\u001b[39m total_count) \u001b[38;5;241m*\u001b[39m \u001b[38;5;241m100\u001b[39m\n",
      "File \u001b[0;32m~/.cache/pypoetry/virtualenvs/vqa-next-eInyQkxN-py3.10/lib/python3.10/site-packages/pandas/core/frame.py:4102\u001b[0m, in \u001b[0;36mDataFrame.__getitem__\u001b[0;34m(self, key)\u001b[0m\n\u001b[1;32m   4100\u001b[0m \u001b[38;5;28;01mif\u001b[39;00m \u001b[38;5;28mself\u001b[39m\u001b[38;5;241m.\u001b[39mcolumns\u001b[38;5;241m.\u001b[39mnlevels \u001b[38;5;241m>\u001b[39m \u001b[38;5;241m1\u001b[39m:\n\u001b[1;32m   4101\u001b[0m     \u001b[38;5;28;01mreturn\u001b[39;00m \u001b[38;5;28mself\u001b[39m\u001b[38;5;241m.\u001b[39m_getitem_multilevel(key)\n\u001b[0;32m-> 4102\u001b[0m indexer \u001b[38;5;241m=\u001b[39m \u001b[38;5;28;43mself\u001b[39;49m\u001b[38;5;241;43m.\u001b[39;49m\u001b[43mcolumns\u001b[49m\u001b[38;5;241;43m.\u001b[39;49m\u001b[43mget_loc\u001b[49m\u001b[43m(\u001b[49m\u001b[43mkey\u001b[49m\u001b[43m)\u001b[49m\n\u001b[1;32m   4103\u001b[0m \u001b[38;5;28;01mif\u001b[39;00m is_integer(indexer):\n\u001b[1;32m   4104\u001b[0m     indexer \u001b[38;5;241m=\u001b[39m [indexer]\n",
      "File \u001b[0;32m~/.cache/pypoetry/virtualenvs/vqa-next-eInyQkxN-py3.10/lib/python3.10/site-packages/pandas/core/indexes/base.py:3812\u001b[0m, in \u001b[0;36mIndex.get_loc\u001b[0;34m(self, key)\u001b[0m\n\u001b[1;32m   3807\u001b[0m     \u001b[38;5;28;01mif\u001b[39;00m \u001b[38;5;28misinstance\u001b[39m(casted_key, \u001b[38;5;28mslice\u001b[39m) \u001b[38;5;129;01mor\u001b[39;00m (\n\u001b[1;32m   3808\u001b[0m         \u001b[38;5;28misinstance\u001b[39m(casted_key, abc\u001b[38;5;241m.\u001b[39mIterable)\n\u001b[1;32m   3809\u001b[0m         \u001b[38;5;129;01mand\u001b[39;00m \u001b[38;5;28many\u001b[39m(\u001b[38;5;28misinstance\u001b[39m(x, \u001b[38;5;28mslice\u001b[39m) \u001b[38;5;28;01mfor\u001b[39;00m x \u001b[38;5;129;01min\u001b[39;00m casted_key)\n\u001b[1;32m   3810\u001b[0m     ):\n\u001b[1;32m   3811\u001b[0m         \u001b[38;5;28;01mraise\u001b[39;00m InvalidIndexError(key)\n\u001b[0;32m-> 3812\u001b[0m     \u001b[38;5;28;01mraise\u001b[39;00m \u001b[38;5;167;01mKeyError\u001b[39;00m(key) \u001b[38;5;28;01mfrom\u001b[39;00m \u001b[38;5;21;01merr\u001b[39;00m\n\u001b[1;32m   3813\u001b[0m \u001b[38;5;28;01mexcept\u001b[39;00m \u001b[38;5;167;01mTypeError\u001b[39;00m:\n\u001b[1;32m   3814\u001b[0m     \u001b[38;5;66;03m# If we have a listlike key, _check_indexing_error will raise\u001b[39;00m\n\u001b[1;32m   3815\u001b[0m     \u001b[38;5;66;03m#  InvalidIndexError. Otherwise we fall through and re-raise\u001b[39;00m\n\u001b[1;32m   3816\u001b[0m     \u001b[38;5;66;03m#  the TypeError.\u001b[39;00m\n\u001b[1;32m   3817\u001b[0m     \u001b[38;5;28mself\u001b[39m\u001b[38;5;241m.\u001b[39m_check_indexing_error(key)\n",
      "\u001b[0;31mKeyError\u001b[0m: 'openai_scenegraph_response_parsed'"
     ]
    }
   ],
   "source": [
    "similar_count = (llava_df['answer'] == llava_df['openai_scenegraph_response_parsed']).sum()\n",
    "total_count = len(llava_df)\n",
    "\n",
    "similarity_percentage = (similar_count / total_count) * 100\n",
    "print(f\"Accuracy Scene graph OPENAI: {similarity_percentage:.2f}%\")"
   ]
  },
  {
   "cell_type": "code",
   "execution_count": 58,
   "metadata": {},
   "outputs": [
    {
     "name": "stdout",
     "output_type": "stream",
     "text": [
      "category\n",
      "Arts & History        71.666667\n",
      "Clothing & Fashion    81.666667\n",
      "Cultural Festivals    70.000000\n",
      "Food                  80.000000\n",
      "Incidents             76.666667\n",
      "Nature                78.333333\n",
      "Religious Events      73.333333\n",
      "Social Life           76.666667\n",
      "Sports                88.333333\n",
      "dtype: float64\n"
     ]
    },
    {
     "name": "stderr",
     "output_type": "stream",
     "text": [
      "/tmp/ipykernel_33275/3739887868.py:3: DeprecationWarning: DataFrameGroupBy.apply operated on the grouping columns. This behavior is deprecated, and in a future version of pandas the grouping columns will be excluded from the operation. Either pass `include_groups=False` to exclude the groupings or explicitly select the grouping columns after groupby to silence this warning.\n",
      "  .apply(lambda df: (df['answer'] == df['openai_scenegraph_response_parsed']).sum() / len(df) * 100)\n"
     ]
    }
   ],
   "source": [
    "similarity_by_category = (\n",
    "    llava_df.groupby('category')\n",
    "    .apply(lambda df: (df['answer'] == df['openai_scenegraph_response_parsed']).sum() / len(df) * 100)\n",
    ")\n",
    "\n",
    "print(similarity_by_category)"
   ]
  },
  {
   "cell_type": "markdown",
   "metadata": {},
   "source": [
    "### Custom prompt openai"
   ]
  },
  {
   "cell_type": "code",
   "execution_count": 107,
   "metadata": {},
   "outputs": [
    {
     "name": "stdout",
     "output_type": "stream",
     "text": [
      "Accuracy Descriptive OPENAI: 80.74%\n"
     ]
    }
   ],
   "source": [
    "similar_count = (llava_df['answer'] == llava_df['openai_custom_response_parsed']).sum()\n",
    "total_count = len(llava_df)\n",
    "\n",
    "similarity_percentage = (similar_count / total_count) * 100\n",
    "print(f\"Accuracy Descriptive OPENAI: {similarity_percentage:.2f}%\")"
   ]
  },
  {
   "cell_type": "code",
   "execution_count": 108,
   "metadata": {},
   "outputs": [
    {
     "name": "stdout",
     "output_type": "stream",
     "text": [
      "category\n",
      "Arts & History        85.000000\n",
      "Clothing & Fashion    83.333333\n",
      "Cultural Festivals    73.333333\n",
      "Food                  80.000000\n",
      "Incidents             80.000000\n",
      "Nature                75.000000\n",
      "Religious Events      81.666667\n",
      "Social Life           83.333333\n",
      "Sports                85.000000\n",
      "dtype: float64\n"
     ]
    },
    {
     "name": "stderr",
     "output_type": "stream",
     "text": [
      "/tmp/ipykernel_72253/1497384842.py:3: DeprecationWarning: DataFrameGroupBy.apply operated on the grouping columns. This behavior is deprecated, and in a future version of pandas the grouping columns will be excluded from the operation. Either pass `include_groups=False` to exclude the groupings or explicitly select the grouping columns after groupby to silence this warning.\n",
      "  .apply(lambda df: (df['answer'] == df['openai_custom_response_parsed']).sum() / len(df) * 100)\n"
     ]
    }
   ],
   "source": [
    "similarity_by_category = (\n",
    "    llava_df.groupby('category')\n",
    "    .apply(lambda df: (df['answer'] == df['openai_custom_response_parsed']).sum() / len(df) * 100)\n",
    ")\n",
    "\n",
    "print(similarity_by_category)"
   ]
  },
  {
   "cell_type": "code",
   "execution_count": null,
   "metadata": {},
   "outputs": [],
   "source": []
  },
  {
   "cell_type": "markdown",
   "metadata": {},
   "source": [
    "### Open ended \n"
   ]
  },
  {
   "cell_type": "code",
   "execution_count": 148,
   "metadata": {},
   "outputs": [
    {
     "data": {
      "text/html": [
       "<div>\n",
       "<style scoped>\n",
       "    .dataframe tbody tr th:only-of-type {\n",
       "        vertical-align: middle;\n",
       "    }\n",
       "\n",
       "    .dataframe tbody tr th {\n",
       "        vertical-align: top;\n",
       "    }\n",
       "\n",
       "    .dataframe thead th {\n",
       "        text-align: right;\n",
       "    }\n",
       "</style>\n",
       "<table border=\"1\" class=\"dataframe\">\n",
       "  <thead>\n",
       "    <tr style=\"text-align: right;\">\n",
       "      <th></th>\n",
       "      <th>filename</th>\n",
       "      <th>question</th>\n",
       "      <th>options</th>\n",
       "      <th>answer</th>\n",
       "      <th>category</th>\n",
       "      <th>id</th>\n",
       "      <th>open_ended</th>\n",
       "      <th>unparsed_open_ended</th>\n",
       "      <th>open_ended_eval</th>\n",
       "    </tr>\n",
       "  </thead>\n",
       "  <tbody>\n",
       "    <tr>\n",
       "      <th>0</th>\n",
       "      <td>CHITTRON_7834.png</td>\n",
       "      <td>চিত্রের শিশুটি কোন ধরনের শিক্ষা গ্রহণ করছে?</td>\n",
       "      <td>['চারুকলা', 'গান', 'একাডেমিক', 'নৃত্য']</td>\n",
       "      <td>নৃত্য</td>\n",
       "      <td>Arts &amp; History</td>\n",
       "      <td>F3CH7834</td>\n",
       "      <td>নৃত্য শিক্ষা</td>\n",
       "      <td>*answer:* নৃত্য শিক্ষা</td>\n",
       "      <td>*rationale:* The candidate answer \"নৃত্য শিক্ষ...</td>\n",
       "    </tr>\n",
       "    <tr>\n",
       "      <th>1</th>\n",
       "      <td>CHITTRON_3642.png</td>\n",
       "      <td>বাংলার মর্মান্তিক ইতিহাস বহনকারী এই স্তম্ভটির ...</td>\n",
       "      <td>['স্মৃতিসৌধ', 'শহীদ মিনার', 'রাজু ভাস্কর্য', '...</td>\n",
       "      <td>শহীদ মিনার</td>\n",
       "      <td>Arts &amp; History</td>\n",
       "      <td>P9CH3642</td>\n",
       "      <td>শহীদ মিনার</td>\n",
       "      <td>*answer:* শহীদ মিনার</td>\n",
       "      <td>*rationale:* The candidate answer \"শহীদ মিনার\"...</td>\n",
       "    </tr>\n",
       "  </tbody>\n",
       "</table>\n",
       "</div>"
      ],
      "text/plain": [
       "            filename                                           question  \\\n",
       "0  CHITTRON_7834.png        চিত্রের শিশুটি কোন ধরনের শিক্ষা গ্রহণ করছে?   \n",
       "1  CHITTRON_3642.png  বাংলার মর্মান্তিক ইতিহাস বহনকারী এই স্তম্ভটির ...   \n",
       "\n",
       "                                             options      answer  \\\n",
       "0            ['চারুকলা', 'গান', 'একাডেমিক', 'নৃত্য']       নৃত্য   \n",
       "1  ['স্মৃতিসৌধ', 'শহীদ মিনার', 'রাজু ভাস্কর্য', '...  শহীদ মিনার   \n",
       "\n",
       "         category        id    open_ended     unparsed_open_ended  \\\n",
       "0  Arts & History  F3CH7834  নৃত্য শিক্ষা  *answer:* নৃত্য শিক্ষা   \n",
       "1  Arts & History  P9CH3642    শহীদ মিনার    *answer:* শহীদ মিনার   \n",
       "\n",
       "                                     open_ended_eval  \n",
       "0  *rationale:* The candidate answer \"নৃত্য শিক্ষ...  \n",
       "1  *rationale:* The candidate answer \"শহীদ মিনার\"...  "
      ]
     },
     "execution_count": 148,
     "metadata": {},
     "output_type": "execute_result"
    }
   ],
   "source": [
    "open_ended_df = pd.read_csv(\"/home/sourove/code/Python/vqa-2/vqa_next/outputs/test_data_openended_eval.csv\")\n",
    "open_ended_df.head(2)"
   ]
  },
  {
   "cell_type": "code",
   "execution_count": 149,
   "metadata": {},
   "outputs": [],
   "source": [
    "def parse_rating(strings):   \n",
    "    pattern = r'\\*rating:\\*\\s+(\\d)'\n",
    "    match = re.search(pattern=pattern, string=strings)#, flags=re.IGNORECASE)\n",
    "    if match:   \n",
    "        return int(match.group(1).strip())\n",
    "    else:\n",
    "        return -1"
   ]
  },
  {
   "cell_type": "code",
   "execution_count": 150,
   "metadata": {},
   "outputs": [
    {
     "data": {
      "text/plain": [
       "1"
      ]
     },
     "execution_count": 150,
     "metadata": {},
     "output_type": "execute_result"
    }
   ],
   "source": [
    "testing_str = \"\"\"\n",
    "*rationale:* The candidate answer \"\"নৃত্য শিক্ষা\"\" (dance education) accurately elaborates on the reference answer \"\"নৃত্য\"\" (dance) by specifying that the type of education being received is related to dance. This added detail aligns with the reference answer's intent and context. Therefore, the candidate answer is both correct and precise in the given context.\n",
    "\n",
    "*rating:* 1\n",
    "\"\"\"\n",
    "\n",
    "parse_rating(testing_str)"
   ]
  },
  {
   "cell_type": "code",
   "execution_count": 151,
   "metadata": {},
   "outputs": [],
   "source": [
    "open_ended_df['rating_answer'] = open_ended_df['open_ended_eval'].apply(parse_rating)"
   ]
  },
  {
   "cell_type": "code",
   "execution_count": 152,
   "metadata": {},
   "outputs": [
    {
     "data": {
      "text/plain": [
       "rating_answer\n",
       "0    308\n",
       "1    232\n",
       "Name: count, dtype: int64"
      ]
     },
     "execution_count": 152,
     "metadata": {},
     "output_type": "execute_result"
    }
   ],
   "source": [
    "open_ended_df['rating_answer'].value_counts()"
   ]
  },
  {
   "cell_type": "code",
   "execution_count": 153,
   "metadata": {},
   "outputs": [],
   "source": [
    "# open_ended_df[open_ended_df['rating_answer'] == -1]"
   ]
  },
  {
   "cell_type": "code",
   "execution_count": 157,
   "metadata": {},
   "outputs": [
    {
     "name": "stdout",
     "output_type": "stream",
     "text": [
      "Open ended accuracy: 42.96%\n"
     ]
    }
   ],
   "source": [
    "similar_count = open_ended_df['rating_answer'].sum()\n",
    "total_count = len(open_ended_df)\n",
    "\n",
    "similarity_percentage = (similar_count / total_count) * 100\n",
    "print(f\"Open ended accuracy: {similarity_percentage:.2f}%\")"
   ]
  },
  {
   "cell_type": "code",
   "execution_count": 147,
   "metadata": {},
   "outputs": [],
   "source": [
    "# llava_df.to_csv(\"outputs/test_data_openended.csv\", index=False)"
   ]
  },
  {
   "cell_type": "code",
   "execution_count": 156,
   "metadata": {},
   "outputs": [
    {
     "name": "stdout",
     "output_type": "stream",
     "text": [
      "category\n",
      "Arts & History        25.000000\n",
      "Clothing & Fashion    48.333333\n",
      "Cultural Festivals    41.666667\n",
      "Food                  43.333333\n",
      "Incidents             33.333333\n",
      "Nature                35.000000\n",
      "Religious Events      51.666667\n",
      "Social Life           48.333333\n",
      "Sports                60.000000\n",
      "dtype: float64\n"
     ]
    },
    {
     "name": "stderr",
     "output_type": "stream",
     "text": [
      "/tmp/ipykernel_11672/1820466551.py:3: DeprecationWarning: DataFrameGroupBy.apply operated on the grouping columns. This behavior is deprecated, and in a future version of pandas the grouping columns will be excluded from the operation. Either pass `include_groups=False` to exclude the groupings or explicitly select the grouping columns after groupby to silence this warning.\n",
      "  .apply(lambda df: df['rating_answer'].sum() / len(df) * 100)\n"
     ]
    }
   ],
   "source": [
    "similarity_by_category = (\n",
    "    open_ended_df.groupby('category')\n",
    "    .apply(lambda df: df['rating_answer'].sum() / len(df) * 100)\n",
    ")\n",
    "\n",
    "print(similarity_by_category)"
   ]
  },
  {
   "cell_type": "markdown",
   "metadata": {},
   "source": [
    "### Hard Easy"
   ]
  },
  {
   "cell_type": "code",
   "execution_count": 18,
   "metadata": {},
   "outputs": [
    {
     "data": {
      "text/plain": [
       "Unnamed: 0                0\n",
       "Category                  0\n",
       "level                     0\n",
       "id                        0\n",
       "filename                  0\n",
       "question                  0\n",
       "options                   0\n",
       "answer                    0\n",
       "category                  0\n",
       "openai_response           0\n",
       "openai_response_parsed    0\n",
       "score                     0\n",
       "dtype: int64"
      ]
     },
     "execution_count": 18,
     "metadata": {},
     "output_type": "execute_result"
    }
   ],
   "source": [
    "hard_easy_df = pd.read_csv(\"outputs/level_tagged.csv\")\n",
    "\n",
    "# hard_easy_df.head(2)\n",
    "hard_easy_df.isna().sum()"
   ]
  },
  {
   "cell_type": "code",
   "execution_count": 19,
   "metadata": {},
   "outputs": [
    {
     "data": {
      "text/plain": [
       "Unnamed: 0                0\n",
       "Category                  0\n",
       "level                     0\n",
       "id                        0\n",
       "filename                  0\n",
       "question                  0\n",
       "options                   0\n",
       "answer                    0\n",
       "category                  0\n",
       "openai_response           0\n",
       "openai_response_parsed    0\n",
       "score                     0\n",
       "dtype: int64"
      ]
     },
     "execution_count": 19,
     "metadata": {},
     "output_type": "execute_result"
    }
   ],
   "source": [
    "def clean_sheet(strs):\n",
    "    return strs.strip()\n",
    "\n",
    "# hard_easy_df['id'] = hard_easy_df['id'].apply(clean_sheet)\n",
    "hard_easy_df.isna().sum()"
   ]
  },
  {
   "cell_type": "code",
   "execution_count": 25,
   "metadata": {},
   "outputs": [
    {
     "data": {
      "text/html": [
       "<div>\n",
       "<style scoped>\n",
       "    .dataframe tbody tr th:only-of-type {\n",
       "        vertical-align: middle;\n",
       "    }\n",
       "\n",
       "    .dataframe tbody tr th {\n",
       "        vertical-align: top;\n",
       "    }\n",
       "\n",
       "    .dataframe thead th {\n",
       "        text-align: right;\n",
       "    }\n",
       "</style>\n",
       "<table border=\"1\" class=\"dataframe\">\n",
       "  <thead>\n",
       "    <tr style=\"text-align: right;\">\n",
       "      <th></th>\n",
       "      <th>Unnamed: 0</th>\n",
       "      <th>Category</th>\n",
       "      <th>level</th>\n",
       "      <th>id</th>\n",
       "      <th>filename</th>\n",
       "      <th>question</th>\n",
       "      <th>options</th>\n",
       "      <th>answer</th>\n",
       "      <th>category</th>\n",
       "      <th>openai_response</th>\n",
       "      <th>openai_response_parsed</th>\n",
       "      <th>score</th>\n",
       "    </tr>\n",
       "  </thead>\n",
       "  <tbody>\n",
       "    <tr>\n",
       "      <th>0</th>\n",
       "      <td>0</td>\n",
       "      <td>Food</td>\n",
       "      <td>Hard</td>\n",
       "      <td>F1CH3963</td>\n",
       "      <td>CHITTRON_3963.png</td>\n",
       "      <td>ছবিতে থাকা লোকটি কী করে?</td>\n",
       "      <td>['কাঠের কাজ', 'রুটি বানায়', 'মাটির কাজ', 'ইটের...</td>\n",
       "      <td>রুটি বানায়</td>\n",
       "      <td>Food</td>\n",
       "      <td>answer: 1</td>\n",
       "      <td>কাঠের কাজ</td>\n",
       "      <td>0</td>\n",
       "    </tr>\n",
       "  </tbody>\n",
       "</table>\n",
       "</div>"
      ],
      "text/plain": [
       "   Unnamed: 0 Category level        id           filename  \\\n",
       "0           0     Food  Hard  F1CH3963  CHITTRON_3963.png   \n",
       "\n",
       "                   question  \\\n",
       "0  ছবিতে থাকা লোকটি কী করে?   \n",
       "\n",
       "                                             options      answer category  \\\n",
       "0  ['কাঠের কাজ', 'রুটি বানায়', 'মাটির কাজ', 'ইটের...  রুটি বানায়     Food   \n",
       "\n",
       "  openai_response openai_response_parsed  score  \n",
       "0       answer: 1              কাঠের কাজ      0  "
      ]
     },
     "execution_count": 25,
     "metadata": {},
     "output_type": "execute_result"
    }
   ],
   "source": [
    "hard_easy_df.head(1)"
   ]
  },
  {
   "cell_type": "code",
   "execution_count": 11,
   "metadata": {},
   "outputs": [
    {
     "data": {
      "text/plain": [
       "openai_response_parsed\n",
       "মৃৎশিল্প                                                                  2\n",
       "পহেলা বৈশাখ                                                               2\n",
       "দুর্গাপূজা                                                                2\n",
       "বন্যা                                                                     2\n",
       "মাতৃভাষা দিবস                                                             2\n",
       "                                                                         ..\n",
       "ক্রিকেট                                                                   1\n",
       "খেলাধুলার মাধ্যমে একে অপরের মধ্যে সমঝোতা এবং সহযোগিতার মনোভাব তৈরি হয়    1\n",
       "পাখি                                                                      1\n",
       "ডাংগুলি                                                                   1\n",
       "মোরগ লড়ায়                                                                 1\n",
       "Name: count, Length: 128, dtype: int64"
      ]
     },
     "execution_count": 11,
     "metadata": {},
     "output_type": "execute_result"
    }
   ],
   "source": [
    "hard_easy_df['openai_response_parsed'].value_counts()"
   ]
  },
  {
   "cell_type": "code",
   "execution_count": 13,
   "metadata": {},
   "outputs": [],
   "source": [
    "# hard_easy_df['openai_response_parsed'] = hard_easy_df.apply(lambda row: substitute_answer(row), axis=1)"
   ]
  },
  {
   "cell_type": "code",
   "execution_count": 22,
   "metadata": {},
   "outputs": [],
   "source": [
    "# hard_easy_df.head(3)"
   ]
  },
  {
   "cell_type": "code",
   "execution_count": 14,
   "metadata": {},
   "outputs": [],
   "source": [
    "hard_easy_df['score'] = (hard_easy_df['answer'] == hard_easy_df['openai_response_parsed']).astype(int)"
   ]
  },
  {
   "cell_type": "code",
   "execution_count": 15,
   "metadata": {},
   "outputs": [
    {
     "data": {
      "text/html": [
       "<div>\n",
       "<style scoped>\n",
       "    .dataframe tbody tr th:only-of-type {\n",
       "        vertical-align: middle;\n",
       "    }\n",
       "\n",
       "    .dataframe tbody tr th {\n",
       "        vertical-align: top;\n",
       "    }\n",
       "\n",
       "    .dataframe thead th {\n",
       "        text-align: right;\n",
       "    }\n",
       "</style>\n",
       "<table border=\"1\" class=\"dataframe\">\n",
       "  <thead>\n",
       "    <tr style=\"text-align: right;\">\n",
       "      <th></th>\n",
       "      <th>Unnamed: 0</th>\n",
       "      <th>Category</th>\n",
       "      <th>level</th>\n",
       "      <th>id</th>\n",
       "      <th>filename</th>\n",
       "      <th>question</th>\n",
       "      <th>options</th>\n",
       "      <th>answer</th>\n",
       "      <th>category</th>\n",
       "      <th>openai_response</th>\n",
       "      <th>openai_response_parsed</th>\n",
       "      <th>score</th>\n",
       "    </tr>\n",
       "  </thead>\n",
       "  <tbody>\n",
       "    <tr>\n",
       "      <th>0</th>\n",
       "      <td>0</td>\n",
       "      <td>Food</td>\n",
       "      <td>Hard</td>\n",
       "      <td>F1CH3963</td>\n",
       "      <td>CHITTRON_3963.png</td>\n",
       "      <td>ছবিতে থাকা লোকটি কী করে?</td>\n",
       "      <td>['কাঠের কাজ', 'রুটি বানায়', 'মাটির কাজ', 'ইটের...</td>\n",
       "      <td>রুটি বানায়</td>\n",
       "      <td>Food</td>\n",
       "      <td>answer: 1</td>\n",
       "      <td>কাঠের কাজ</td>\n",
       "      <td>0</td>\n",
       "    </tr>\n",
       "    <tr>\n",
       "      <th>1</th>\n",
       "      <td>1</td>\n",
       "      <td>Food</td>\n",
       "      <td>Hard</td>\n",
       "      <td>P6BN4733</td>\n",
       "      <td>BNATURE_4733.jpg</td>\n",
       "      <td>শুটকি কোন শহরে বেশি পাওয়া যায়?</td>\n",
       "      <td>['ঢাকা', 'সিলেট', 'চট্টগ্রাম', 'যশোর']</td>\n",
       "      <td>চট্টগ্রাম</td>\n",
       "      <td>Food</td>\n",
       "      <td>answer: 3</td>\n",
       "      <td>চট্টগ্রাম</td>\n",
       "      <td>1</td>\n",
       "    </tr>\n",
       "  </tbody>\n",
       "</table>\n",
       "</div>"
      ],
      "text/plain": [
       "   Unnamed: 0 Category level        id           filename  \\\n",
       "0           0     Food  Hard  F1CH3963  CHITTRON_3963.png   \n",
       "1           1     Food  Hard  P6BN4733   BNATURE_4733.jpg   \n",
       "\n",
       "                         question  \\\n",
       "0        ছবিতে থাকা লোকটি কী করে?   \n",
       "1  শুটকি কোন শহরে বেশি পাওয়া যায়?   \n",
       "\n",
       "                                             options      answer category  \\\n",
       "0  ['কাঠের কাজ', 'রুটি বানায়', 'মাটির কাজ', 'ইটের...  রুটি বানায়     Food   \n",
       "1             ['ঢাকা', 'সিলেট', 'চট্টগ্রাম', 'যশোর']   চট্টগ্রাম     Food   \n",
       "\n",
       "  openai_response openai_response_parsed  score  \n",
       "0       answer: 1              কাঠের কাজ      0  \n",
       "1       answer: 3              চট্টগ্রাম      1  "
      ]
     },
     "execution_count": 15,
     "metadata": {},
     "output_type": "execute_result"
    }
   ],
   "source": [
    "hard_easy_df.head(2)"
   ]
  },
  {
   "cell_type": "code",
   "execution_count": 83,
   "metadata": {},
   "outputs": [
    {
     "name": "stdout",
     "output_type": "stream",
     "text": [
      "135\n"
     ]
    }
   ],
   "source": [
    "mismatched_categories = hard_easy_df.loc[hard_easy_df['Category'] == hard_easy_df['category'], 'category']\n",
    "# print(len(mismatched_categories.tolist()))"
   ]
  },
  {
   "cell_type": "code",
   "execution_count": 23,
   "metadata": {},
   "outputs": [],
   "source": [
    "import pandas as pd\n",
    "import matplotlib.pyplot as plt\n",
    "import numpy as np"
   ]
  },
  {
   "cell_type": "code",
   "execution_count": null,
   "metadata": {},
   "outputs": [
    {
     "ename": "NameError",
     "evalue": "name 'total_samples' is not defined",
     "output_type": "error",
     "traceback": [
      "\u001b[0;31m---------------------------------------------------------------------------\u001b[0m",
      "\u001b[0;31mNameError\u001b[0m                                 Traceback (most recent call last)",
      "Cell \u001b[0;32mIn[17], line 11\u001b[0m\n\u001b[1;32m      8\u001b[0m total_scores \u001b[38;5;241m=\u001b[39m hard_easy_df\u001b[38;5;241m.\u001b[39mgroupby([\u001b[38;5;124m'\u001b[39m\u001b[38;5;124mcategory\u001b[39m\u001b[38;5;124m'\u001b[39m, \u001b[38;5;124m'\u001b[39m\u001b[38;5;124mlevel\u001b[39m\u001b[38;5;124m'\u001b[39m])[\u001b[38;5;124m'\u001b[39m\u001b[38;5;124mscore\u001b[39m\u001b[38;5;124m'\u001b[39m]\u001b[38;5;241m.\u001b[39msum()\u001b[38;5;241m.\u001b[39munstack(fill_value\u001b[38;5;241m=\u001b[39m\u001b[38;5;241m0\u001b[39m)\n\u001b[1;32m     10\u001b[0m \u001b[38;5;66;03m# Compute accuracy percentage\u001b[39;00m\n\u001b[0;32m---> 11\u001b[0m accuracy_percentage \u001b[38;5;241m=\u001b[39m (total_scores \u001b[38;5;241m/\u001b[39m \u001b[43mtotal_samples\u001b[49m) \u001b[38;5;241m*\u001b[39m \u001b[38;5;241m100\u001b[39m\n\u001b[1;32m     13\u001b[0m \u001b[38;5;66;03m# Reorder columns to ['Easy', 'Medium', 'Hard']\u001b[39;00m\n\u001b[1;32m     14\u001b[0m desired_order \u001b[38;5;241m=\u001b[39m [\u001b[38;5;124m'\u001b[39m\u001b[38;5;124mEasy\u001b[39m\u001b[38;5;124m'\u001b[39m, \u001b[38;5;124m'\u001b[39m\u001b[38;5;124mMedium\u001b[39m\u001b[38;5;124m'\u001b[39m, \u001b[38;5;124m'\u001b[39m\u001b[38;5;124mHard\u001b[39m\u001b[38;5;124m'\u001b[39m]\n",
      "\u001b[0;31mNameError\u001b[0m: name 'total_samples' is not defined"
     ]
    }
   ],
   "source": [
    "\n",
    "# Convert scores to integer\n",
    "hard_easy_df['score'] = hard_easy_df['score'].astype(int)\n",
    "\n",
    "# Count total occurrences (number of samples) per category and level\n",
    "total_samples = hard_easy_df.groupby(['category', 'level'])['score'].count().unstack(fill_value=0)\n",
    "\n",
    "# Sum scores per category and level\n",
    "total_scores = hard_easy_df.groupby(['category', 'level'])['score'].sum().unstack(fill_value=0)\n",
    "\n",
    "# Compute accuracy percentage\n",
    "accuracy_percentage = (total_scores / total_samples) * 100\n",
    "\n",
    "# Reorder columns to ['Easy', 'Medium', 'Hard']\n",
    "desired_order = ['Easy', 'Medium', 'Hard']\n",
    "accuracy_percentage = accuracy_percentage[desired_order]\n",
    "\n",
    "# Set up bar positions\n",
    "categories = accuracy_percentage.index  # Get category names\n",
    "levels = accuracy_percentage.columns  # Get level names ('Easy', 'Medium', 'Hard')\n",
    "\n",
    "x = np.arange(len(categories))  # Positions for the categories\n",
    "width = 0.25  # Width of each bar\n",
    "\n",
    "fig, ax = plt.subplots(figsize=(12, 6))\n",
    "\n",
    "# Create bars for each level (side-by-side)\n",
    "for i, level in enumerate(levels):\n",
    "    ax.bar(x + i * width, accuracy_percentage[level], width, label=level)\n",
    "\n",
    "# Formatting the plot\n",
    "ax.set_xlabel(\"Categories\")\n",
    "ax.set_ylabel(\"Accuracy (%)\")\n",
    "ax.set_title(\"Accuracy Percentage of Difficulty Levels\")\n",
    "ax.set_xticks(x + width)\n",
    "ax.set_xticklabels(categories, rotation=45, ha='right')\n",
    "ax.legend(title=\"Level\")\n",
    "\n",
    "plt.tight_layout()\n",
    "plt.show()\n"
   ]
  },
  {
   "cell_type": "code",
   "execution_count": 16,
   "metadata": {},
   "outputs": [
    {
     "ename": "NameError",
     "evalue": "name 'total_scores' is not defined",
     "output_type": "error",
     "traceback": [
      "\u001b[0;31m---------------------------------------------------------------------------\u001b[0m",
      "\u001b[0;31mNameError\u001b[0m                                 Traceback (most recent call last)",
      "Cell \u001b[0;32mIn[16], line 1\u001b[0m\n\u001b[0;32m----> 1\u001b[0m accuracy_percentage \u001b[38;5;241m=\u001b[39m (\u001b[43mtotal_scores\u001b[49m \u001b[38;5;241m/\u001b[39m total_samples) \u001b[38;5;241m*\u001b[39m \u001b[38;5;241m100\u001b[39m\n\u001b[1;32m      4\u001b[0m accuracy_percentage\n",
      "\u001b[0;31mNameError\u001b[0m: name 'total_scores' is not defined"
     ]
    }
   ],
   "source": [
    "accuracy_percentage = (total_scores / total_samples) * 100\n",
    "\n",
    "\n",
    "accuracy_percentage"
   ]
  },
  {
   "cell_type": "code",
   "execution_count": null,
   "metadata": {},
   "outputs": [],
   "source": []
  },
  {
   "cell_type": "code",
   "execution_count": 113,
   "metadata": {},
   "outputs": [
    {
     "data": {
      "image/png": "[encoded data removed]",
      "text/plain": [
       "<Figure size 1200x600 with 1 Axes>"
      ]
     },
     "metadata": {},
     "output_type": "display_data"
    }
   ],
   "source": [
    "hard_easy_df['score'] = hard_easy_df['score'].astype(int)\n",
    "\n",
    "# Group by category and level (easy, medium, hard)\n",
    "grouped = hard_easy_df.groupby(['category', 'level'])['score'].sum().unstack(fill_value=0)\n",
    "\n",
    "desired_order = ['Easy', 'Medium', 'Hard']\n",
    "grouped = grouped[desired_order]\n",
    "# Set up bar positions\n",
    "categories = grouped.index  # Get category names\n",
    "levels = grouped.columns  # Get level names ('easy', 'medium', 'hard')\n",
    "\n",
    "x = np.arange(len(categories))  # Positions for the categories\n",
    "width = 0.25  # Width of each bar\n",
    "\n",
    "fig, ax = plt.subplots(figsize=(12, 6))\n",
    "\n",
    "# Create bars for each level (side-by-side)\n",
    "for i, level in enumerate(levels):\n",
    "    ax.bar(x + i * width, grouped[level], width, label=level)\n",
    "\n",
    "# Formatting the plot\n",
    "ax.set_xlabel(\"Categories\")\n",
    "ax.set_ylabel(\"Count\")\n",
    "ax.set_title(\"Accuracy of random test cases tagged by difficulties\")\n",
    "ax.set_xticks(x + width)\n",
    "ax.set_xticklabels(categories, rotation=45, ha='right')\n",
    "ax.legend(title=\"Level\")\n",
    "\n",
    "plt.tight_layout()\n",
    "plt.show()"
   ]
  },
  {
   "cell_type": "code",
   "execution_count": 99,
   "metadata": {},
   "outputs": [],
   "source": [
    "# hard_easy_df.to_csv(\"outputs/level_tagged.csv\")"
   ]
  },
  {
   "cell_type": "markdown",
   "metadata": {},
   "source": [
    "### WH question"
   ]
  },
  {
   "cell_type": "code",
   "execution_count": 5,
   "metadata": {},
   "outputs": [],
   "source": [
    "wh_list = ['কি','কত', 'কোন', 'কোথায়', 'কে', 'কার', 'কখন', 'কয়', 'কিভাবে', 'কবে']\n",
    "\n",
    "def find_keywords(question):\n",
    "    return [word for word in wh_list if word in question]\n",
    "\n",
    "\n",
    "llava_df['matched_keywords'] = llava_df['question'].astype(str).apply(find_keywords)"
   ]
  },
  {
   "cell_type": "code",
   "execution_count": 11,
   "metadata": {},
   "outputs": [
    {
     "data": {
      "text/html": [
       "<div>\n",
       "<style scoped>\n",
       "    .dataframe tbody tr th:only-of-type {\n",
       "        vertical-align: middle;\n",
       "    }\n",
       "\n",
       "    .dataframe tbody tr th {\n",
       "        vertical-align: top;\n",
       "    }\n",
       "\n",
       "    .dataframe thead th {\n",
       "        text-align: right;\n",
       "    }\n",
       "</style>\n",
       "<table border=\"1\" class=\"dataframe\">\n",
       "  <thead>\n",
       "    <tr style=\"text-align: right;\">\n",
       "      <th></th>\n",
       "      <th>question</th>\n",
       "      <th>matched_keywords</th>\n",
       "      <th>score</th>\n",
       "    </tr>\n",
       "  </thead>\n",
       "  <tbody>\n",
       "    <tr>\n",
       "      <th>0</th>\n",
       "      <td>চিত্রের শিশুটি কোন ধরনের শিক্ষা গ্রহণ করছে?</td>\n",
       "      <td>[কোন]</td>\n",
       "      <td>1</td>\n",
       "    </tr>\n",
       "    <tr>\n",
       "      <th>1</th>\n",
       "      <td>বাংলার মর্মান্তিক ইতিহাস বহনকারী এই স্তম্ভটির ...</td>\n",
       "      <td>[কি, কার]</td>\n",
       "      <td>1</td>\n",
       "    </tr>\n",
       "    <tr>\n",
       "      <th>2</th>\n",
       "      <td>ছবিতে দেখা মুদ্রাটি কোন দেশের?</td>\n",
       "      <td>[কোন]</td>\n",
       "      <td>1</td>\n",
       "    </tr>\n",
       "    <tr>\n",
       "      <th>3</th>\n",
       "      <td>ছবিতে মেয়েটি মাইক্রোফোনটি হাতে ধরে কী করছে?</td>\n",
       "      <td>[]</td>\n",
       "      <td>1</td>\n",
       "    </tr>\n",
       "    <tr>\n",
       "      <th>4</th>\n",
       "      <td>প্রাচীনকালে বাংলায় এমন বড় আকৃতির মাটির পাত্র ক...</td>\n",
       "      <td>[কি]</td>\n",
       "      <td>0</td>\n",
       "    </tr>\n",
       "  </tbody>\n",
       "</table>\n",
       "</div>"
      ],
      "text/plain": [
       "                                            question matched_keywords  score\n",
       "0        চিত্রের শিশুটি কোন ধরনের শিক্ষা গ্রহণ করছে?            [কোন]      1\n",
       "1  বাংলার মর্মান্তিক ইতিহাস বহনকারী এই স্তম্ভটির ...        [কি, কার]      1\n",
       "2                     ছবিতে দেখা মুদ্রাটি কোন দেশের?            [কোন]      1\n",
       "3       ছবিতে মেয়েটি মাইক্রোফোনটি হাতে ধরে কী করছে?               []      1\n",
       "4  প্রাচীনকালে বাংলায় এমন বড় আকৃতির মাটির পাত্র ক...             [কি]      0"
      ]
     },
     "execution_count": 11,
     "metadata": {},
     "output_type": "execute_result"
    }
   ],
   "source": [
    "llava_df[['question', 'matched_keywords', 'score']].head(5)"
   ]
  },
  {
   "cell_type": "code",
   "execution_count": 12,
   "metadata": {},
   "outputs": [],
   "source": [
    "keyword_correct = {}  # Correct occurrences (score=1)\n",
    "keyword_total = {}  # Total occurrences\n",
    "\n",
    "# Count occurrences for each keyword\n",
    "for keywords, score in zip(llava_df[\"matched_keywords\"], llava_df[\"score\"]):\n",
    "    for keyword in keywords:\n",
    "        # Increment total count\n",
    "        keyword_total[keyword] = keyword_total.get(keyword, 0) + 1\n",
    "        # Increment correct count if score is 1\n",
    "        if score == 1:\n",
    "            keyword_correct[keyword] = keyword_correct.get(keyword, 0) + 1\n",
    "\n",
    "# Compute accuracy percentage for each keyword\n",
    "keyword_accuracy = {\n",
    "    k: (keyword_correct.get(k, 0) / keyword_total[k]) * 100 for k in keyword_total\n",
    "}\n",
    "\n",
    "# Convert to DataFrame\n",
    "keyword_accuracy_df = pd.DataFrame(\n",
    "    keyword_accuracy.items(), columns=[\"Keyword\", \"Accuracy (%)\"]\n",
    ")\n",
    "\n",
    "keyword_accuracy_df = keyword_accuracy_df.sort_values(by=\"Accuracy (%)\", ascending=False)\n"
   ]
  },
  {
   "cell_type": "code",
   "execution_count": 16,
   "metadata": {},
   "outputs": [
    {
     "data": {
      "text/html": [
       "<div>\n",
       "<style scoped>\n",
       "    .dataframe tbody tr th:only-of-type {\n",
       "        vertical-align: middle;\n",
       "    }\n",
       "\n",
       "    .dataframe tbody tr th {\n",
       "        vertical-align: top;\n",
       "    }\n",
       "\n",
       "    .dataframe thead th {\n",
       "        text-align: right;\n",
       "    }\n",
       "</style>\n",
       "<table border=\"1\" class=\"dataframe\">\n",
       "  <thead>\n",
       "    <tr style=\"text-align: right;\">\n",
       "      <th></th>\n",
       "      <th>Keyword</th>\n",
       "      <th>Accuracy (%)</th>\n",
       "    </tr>\n",
       "  </thead>\n",
       "  <tbody>\n",
       "    <tr>\n",
       "      <th>0</th>\n",
       "      <td>কোন</td>\n",
       "      <td>81.300813</td>\n",
       "    </tr>\n",
       "    <tr>\n",
       "      <th>1</th>\n",
       "      <td>কি</td>\n",
       "      <td>79.781421</td>\n",
       "    </tr>\n",
       "    <tr>\n",
       "      <th>2</th>\n",
       "      <td>কার</td>\n",
       "      <td>76.000000</td>\n",
       "    </tr>\n",
       "    <tr>\n",
       "      <th>3</th>\n",
       "      <td>কে</td>\n",
       "      <td>78.260870</td>\n",
       "    </tr>\n",
       "    <tr>\n",
       "      <th>4</th>\n",
       "      <td>কোথায়</td>\n",
       "      <td>78.947368</td>\n",
       "    </tr>\n",
       "    <tr>\n",
       "      <th>5</th>\n",
       "      <td>কত</td>\n",
       "      <td>90.909091</td>\n",
       "    </tr>\n",
       "    <tr>\n",
       "      <th>6</th>\n",
       "      <td>কখন</td>\n",
       "      <td>100.000000</td>\n",
       "    </tr>\n",
       "    <tr>\n",
       "      <th>7</th>\n",
       "      <td>কিভাবে</td>\n",
       "      <td>0.000000</td>\n",
       "    </tr>\n",
       "    <tr>\n",
       "      <th>8</th>\n",
       "      <td>কয়</td>\n",
       "      <td>50.000000</td>\n",
       "    </tr>\n",
       "  </tbody>\n",
       "</table>\n",
       "</div>"
      ],
      "text/plain": [
       "  Keyword  Accuracy (%)\n",
       "0     কোন     81.300813\n",
       "1      কি     79.781421\n",
       "2     কার     76.000000\n",
       "3      কে     78.260870\n",
       "4   কোথায়     78.947368\n",
       "5      কত     90.909091\n",
       "6     কখন    100.000000\n",
       "7  কিভাবে      0.000000\n",
       "8      কয়     50.000000"
      ]
     },
     "execution_count": 16,
     "metadata": {},
     "output_type": "execute_result"
    }
   ],
   "source": [
    "# keyword_total['কিভাবে']\n",
    "keyword_accuracy_df.head(10)"
   ]
  },
  {
   "cell_type": "code",
   "execution_count": null,
   "metadata": {},
   "outputs": [
    {
     "name": "stderr",
     "output_type": "stream",
     "text": [
      "/tmp/ipykernel_12224/2169807051.py:7: FutureWarning: \n",
      "\n",
      "Passing `palette` without assigning `hue` is deprecated and will be removed in v0.14.0. Assign the `x` variable to `hue` and set `legend=False` for the same effect.\n",
      "\n",
      "  sns.barplot(x=keyword_accuracy_df[\"Keyword\"], y=keyword_accuracy_df[\"Accuracy (%)\"], palette=\"coolwarm\")\n",
      "/home/sourove/.cache/pypoetry/virtualenvs/vqa-next-eInyQkxN-py3.10/lib/python3.10/site-packages/IPython/core/pylabtools.py:170: UserWarning: Glyph 2453 (\\N{BENGALI LETTER KA}) missing from font(s) DejaVu Sans.\n",
      "  fig.canvas.print_figure(bytes_io, **kw)\n",
      "/home/sourove/.cache/pypoetry/virtualenvs/vqa-next-eInyQkxN-py3.10/lib/python3.10/site-packages/IPython/core/pylabtools.py:170: UserWarning: Matplotlib currently does not support Bengali natively.\n",
      "  fig.canvas.print_figure(bytes_io, **kw)\n",
      "/home/sourove/.cache/pypoetry/virtualenvs/vqa-next-eInyQkxN-py3.10/lib/python3.10/site-packages/IPython/core/pylabtools.py:170: UserWarning: Glyph 2507 (\\N{BENGALI VOWEL SIGN O}) missing from font(s) DejaVu Sans.\n",
      "  fig.canvas.print_figure(bytes_io, **kw)\n",
      "/home/sourove/.cache/pypoetry/virtualenvs/vqa-next-eInyQkxN-py3.10/lib/python3.10/site-packages/IPython/core/pylabtools.py:170: UserWarning: Glyph 2472 (\\N{BENGALI LETTER NA}) missing from font(s) DejaVu Sans.\n",
      "  fig.canvas.print_figure(bytes_io, **kw)\n",
      "/home/sourove/.cache/pypoetry/virtualenvs/vqa-next-eInyQkxN-py3.10/lib/python3.10/site-packages/IPython/core/pylabtools.py:170: UserWarning: Glyph 2495 (\\N{BENGALI VOWEL SIGN I}) missing from font(s) DejaVu Sans.\n",
      "  fig.canvas.print_figure(bytes_io, **kw)\n",
      "/home/sourove/.cache/pypoetry/virtualenvs/vqa-next-eInyQkxN-py3.10/lib/python3.10/site-packages/IPython/core/pylabtools.py:170: UserWarning: Glyph 2494 (\\N{BENGALI VOWEL SIGN AA}) missing from font(s) DejaVu Sans.\n",
      "  fig.canvas.print_figure(bytes_io, **kw)\n",
      "/home/sourove/.cache/pypoetry/virtualenvs/vqa-next-eInyQkxN-py3.10/lib/python3.10/site-packages/IPython/core/pylabtools.py:170: UserWarning: Glyph 2480 (\\N{BENGALI LETTER RA}) missing from font(s) DejaVu Sans.\n",
      "  fig.canvas.print_figure(bytes_io, **kw)\n",
      "/home/sourove/.cache/pypoetry/virtualenvs/vqa-next-eInyQkxN-py3.10/lib/python3.10/site-packages/IPython/core/pylabtools.py:170: UserWarning: Glyph 2503 (\\N{BENGALI VOWEL SIGN E}) missing from font(s) DejaVu Sans.\n",
      "  fig.canvas.print_figure(bytes_io, **kw)\n",
      "/home/sourove/.cache/pypoetry/virtualenvs/vqa-next-eInyQkxN-py3.10/lib/python3.10/site-packages/IPython/core/pylabtools.py:170: UserWarning: Glyph 2469 (\\N{BENGALI LETTER THA}) missing from font(s) DejaVu Sans.\n",
      "  fig.canvas.print_figure(bytes_io, **kw)\n",
      "/home/sourove/.cache/pypoetry/virtualenvs/vqa-next-eInyQkxN-py3.10/lib/python3.10/site-packages/IPython/core/pylabtools.py:170: UserWarning: Glyph 2527 (\\N{BENGALI LETTER YYA}) missing from font(s) DejaVu Sans.\n",
      "  fig.canvas.print_figure(bytes_io, **kw)\n",
      "/home/sourove/.cache/pypoetry/virtualenvs/vqa-next-eInyQkxN-py3.10/lib/python3.10/site-packages/IPython/core/pylabtools.py:170: UserWarning: Glyph 2468 (\\N{BENGALI LETTER TA}) missing from font(s) DejaVu Sans.\n",
      "  fig.canvas.print_figure(bytes_io, **kw)\n",
      "/home/sourove/.cache/pypoetry/virtualenvs/vqa-next-eInyQkxN-py3.10/lib/python3.10/site-packages/IPython/core/pylabtools.py:170: UserWarning: Glyph 2454 (\\N{BENGALI LETTER KHA}) missing from font(s) DejaVu Sans.\n",
      "  fig.canvas.print_figure(bytes_io, **kw)\n",
      "/home/sourove/.cache/pypoetry/virtualenvs/vqa-next-eInyQkxN-py3.10/lib/python3.10/site-packages/IPython/core/pylabtools.py:170: UserWarning: Glyph 2477 (\\N{BENGALI LETTER BHA}) missing from font(s) DejaVu Sans.\n",
      "  fig.canvas.print_figure(bytes_io, **kw)\n",
      "/home/sourove/.cache/pypoetry/virtualenvs/vqa-next-eInyQkxN-py3.10/lib/python3.10/site-packages/IPython/core/pylabtools.py:170: UserWarning: Glyph 2476 (\\N{BENGALI LETTER BA}) missing from font(s) DejaVu Sans.\n",
      "  fig.canvas.print_figure(bytes_io, **kw)\n"
     ]
    },
    {
     "data": {
      "image/png": "[encoded data removed]",
      "text/plain": [
       "<Figure size 1000x500 with 1 Axes>"
      ]
     },
     "metadata": {},
     "output_type": "display_data"
    }
   ],
   "source": [
    "import matplotlib.pyplot as plt\n",
    "import seaborn as sns\n",
    "\n",
    "\n",
    "# Plot the bar chart\n",
    "plt.figure(figsize=(10, 5))\n",
    "sns.barplot(x=keyword_accuracy_df[\"Keyword\"], y=keyword_accuracy_df[\"Accuracy (%)\"], palette=\"coolwarm\")\n",
    "\n",
    "plt.xlabel(\"Keywords (Bangla)\", fontsize=12)\n",
    "plt.ylabel(\"Accuracy (%)\", fontsize=12)\n",
    "plt.title(\"Keyword Accuracy Based on Scores\", fontsize=14)\n",
    "plt.xticks(rotation=45)\n",
    "plt.ylim(0, 100)\n",
    "\n",
    "# Show plot\n",
    "plt.show()"
   ]
  },
  {
   "cell_type": "code",
   "execution_count": null,
   "metadata": {},
   "outputs": [],
   "source": []
  }
 ],
 "metadata": {
  "kernelspec": {
   "display_name": "vqa-next-eInyQkxN-py3.10",
   "language": "python",
   "name": "python3"
  },
  "language_info": {
   "codemirror_mode": {
    "name": "ipython",
    "version": 3
   },
   "file_extension": ".py",
   "mimetype": "text/x-python",
   "name": "python",
   "nbconvert_exporter": "python",
   "pygments_lexer": "ipython3",
   "version": "3.10.12"
  }
 },
 "nbformat": 4,
 "nbformat_minor": 2
}
