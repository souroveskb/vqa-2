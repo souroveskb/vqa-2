{
 "cells": [
  {
   "cell_type": "code",
   "execution_count": 2,
   "metadata": {},
   "outputs": [],
   "source": [
    "import os\n",
    "import json"
   ]
  },
  {
   "cell_type": "code",
   "execution_count": 17,
   "metadata": {},
   "outputs": [],
   "source": [
    "path = \"/home/penta/Code/vqa-2/annotation/resource/annotator_4_relevant.json\"\n",
    "with open(path, \"r\") as f:\n",
    "    data = json.load(f)"
   ]
  },
  {
   "cell_type": "code",
   "execution_count": 18,
   "metadata": {},
   "outputs": [
    {
     "data": {
      "text/plain": [
       "136"
      ]
     },
     "execution_count": 18,
     "metadata": {},
     "output_type": "execute_result"
    }
   ],
   "source": [
    "len(data)"
   ]
  },
  {
   "cell_type": "code",
   "execution_count": 20,
   "metadata": {},
   "outputs": [],
   "source": [
    "progress_path  = \"/home/penta/Downloads/progress (12).json\"\n",
    "\n",
    "with open(progress_path, \"r\") as f:\n",
    "    progress = json.load(f)"
   ]
  },
  {
   "cell_type": "code",
   "execution_count": 26,
   "metadata": {},
   "outputs": [
    {
     "name": "stdout",
     "output_type": "stream",
     "text": [
      "BNATURE_2796.jpg 0\n",
      "BNATURE_2797.jpg 0\n",
      "BNATURE_2798.jpg 0\n",
      "BNATURE_2799.jpg 0\n",
      "BNATURE_28.jpg 0\n",
      "BNATURE_280.jpg 0\n",
      "BNATURE_2800.jpg 0\n",
      "BNATURE_2801.jpg 0\n",
      "BNATURE_2802.jpg 0\n",
      "BNATURE_2803.jpg 0\n",
      "BNATURE_2804.jpg 0\n",
      "BNATURE_2805.jpg 0\n",
      "BNATURE_2806.jpg 0\n",
      "BNATURE_2807.jpg 0\n",
      "BNATURE_2808.jpg 0\n",
      "BNATURE_2809.jpg 0\n",
      "BNATURE_281.jpg 0\n",
      "BNATURE_2810.jpg 0\n",
      "BNATURE_2811.jpg 0\n",
      "BNATURE_2812.jpg 0\n",
      "BNATURE_2813.jpg 0\n",
      "BNATURE_2814.jpg 0\n",
      "BNATURE_2815.jpg 0\n",
      "BNATURE_2816.jpg 0\n",
      "BNATURE_2817.jpg 0\n",
      "BNATURE_2818.jpg 0\n",
      "BNATURE_2819.jpg 0\n",
      "BNATURE_282.jpg 0\n",
      "BNATURE_2820.jpg 0\n",
      "BNATURE_2821.jpg 0\n",
      "BNATURE_2822.jpg 0\n",
      "BNATURE_2823.jpg 0\n",
      "BNATURE_2824.jpg 0\n",
      "BNATURE_2825.jpg 0\n",
      "BNATURE_2826.jpg 0\n",
      "BNATURE_2827.jpg 0\n",
      "BNATURE_2828.jpg 0\n",
      "BNATURE_2829.jpg 0\n",
      "BNATURE_283.jpg 0\n",
      "BNATURE_2830.jpg 0\n",
      "BNATURE_2831.jpg 0\n",
      "BNATURE_2832.jpg 0\n",
      "BNATURE_2833.jpg 0\n",
      "BNATURE_2834.jpg 0\n",
      "BNATURE_2835.jpg 0\n",
      "BNATURE_2836.jpg 0\n",
      "BNATURE_2837.jpg 0\n",
      "BNATURE_2838.jpg 0\n",
      "BNATURE_2839.jpg 0\n",
      "BNATURE_284.jpg 0\n",
      "BNATURE_2840.jpg 0\n",
      "BNATURE_2841.jpg 0\n",
      "BNATURE_2842.jpg 0\n",
      "BNATURE_2843.jpg 0\n",
      "BNATURE_2844.jpg 0\n",
      "BNATURE_2845.jpg 0\n",
      "BNATURE_2846.jpg 0\n",
      "BNATURE_2847.jpg 0\n",
      "BNATURE_2848.jpg 0\n",
      "BNATURE_2849.jpg 0\n",
      "BNATURE_285.jpg 0\n",
      "BNATURE_2850.jpg 0\n",
      "BNATURE_2851.jpg 0\n",
      "BNATURE_2852.jpg 0\n",
      "BNATURE_2853.jpg 0\n",
      "BNATURE_2854.jpg 0\n",
      "BNATURE_2855.jpg 0\n",
      "BNATURE_2856.jpg 0\n",
      "BNATURE_2857.jpg 0\n",
      "BNATURE_2858.jpg 0\n",
      "BNATURE_2859.jpg 0\n",
      "BNATURE_286.jpg 0\n",
      "BNATURE_2860.jpg 0\n",
      "BNATURE_2861.jpg 0\n",
      "BNATURE_2862.jpg 0\n",
      "BNATURE_2863.jpg 0\n",
      "BNATURE_2864.jpg 0\n",
      "BNATURE_2865.jpg 0\n",
      "BNATURE_2866.jpg 0\n",
      "BNATURE_2867.jpg 0\n",
      "BNATURE_2868.jpg 0\n",
      "BNATURE_2869.jpg 0\n",
      "BNATURE_287.jpg 0\n",
      "BNATURE_2870.jpg 0\n",
      "BNATURE_2871.jpg 0\n",
      "BNATURE_2872.jpg 0\n",
      "BNATURE_2873.jpg 0\n",
      "BNATURE_2874.jpg 0\n",
      "BNATURE_2875.jpg 0\n",
      "BNATURE_2876.jpg 0\n",
      "BNATURE_2877.jpg 0\n",
      "BNATURE_2878.jpg 0\n",
      "BNATURE_2879.jpg 0\n",
      "BNATURE_288.jpg 0\n",
      "BNATURE_2880.jpg 0\n",
      "BNATURE_2881.jpg 0\n",
      "BNATURE_2882.jpg 0\n",
      "BNATURE_2883.jpg 0\n",
      "BNATURE_2884.jpg 0\n",
      "BNATURE_2885.jpg 0\n",
      "BNATURE_2886.jpg 0\n",
      "BNATURE_2887.jpg 0\n",
      "BNATURE_2888.jpg 0\n",
      "BNATURE_2889.jpg 0\n",
      "BNATURE_289.jpg 0\n",
      "BNATURE_2890.jpg 0\n",
      "BNATURE_2891.jpg 0\n",
      "BNATURE_2892.jpg 0\n",
      "BNATURE_2893.jpg 0\n",
      "BNATURE_2894.jpg 0\n",
      "BNATURE_2895.jpg 0\n",
      "BNATURE_2896.jpg 0\n",
      "BNATURE_2897.jpg 0\n",
      "BNATURE_2898.jpg 0\n",
      "BNATURE_2899.jpg 0\n",
      "BNATURE_29.jpg 0\n",
      "BNATURE_290.jpg 0\n",
      "BNATURE_2900.jpg 0\n",
      "BNATURE_2901.jpg 0\n",
      "BNATURE_2902.jpg 0\n",
      "BNATURE_2903.jpg 0\n",
      "BNATURE_2904.jpg 0\n",
      "BNATURE_2905.jpg 0\n",
      "BNATURE_2906.jpg 0\n",
      "BNATURE_2907.jpg 0\n",
      "BNATURE_2908.jpg 0\n",
      "BNATURE_2909.jpg 0\n",
      "BNATURE_291.jpg 0\n",
      "BNATURE_2910.jpg 0\n",
      "BNATURE_2911.jpg 0\n",
      "BNATURE_2912.jpg 0\n",
      "BNATURE_2913.jpg 0\n",
      "BNATURE_2914.jpg 0\n",
      "BNATURE_2915.jpg 0\n",
      "BNATURE_2916.jpg 0\n",
      "BNATURE_2917.jpg 0\n",
      "BNATURE_2918.jpg 0\n",
      "BNATURE_2919.jpg 0\n",
      "BNATURE_292.jpg 0\n",
      "BNATURE_2920.jpg 0\n",
      "BNATURE_2921.jpg 0\n",
      "BNATURE_2922.jpg 0\n",
      "BNATURE_2923.jpg 0\n",
      "BNATURE_2924.jpg 0\n",
      "BNATURE_2925.jpg 0\n",
      "BNATURE_2926.jpg 0\n"
     ]
    },
    {
     "data": {
      "text/plain": [
       "(136, 146)"
      ]
     },
     "execution_count": 26,
     "metadata": {},
     "output_type": "execute_result"
    }
   ],
   "source": [
    "sum = 0\n",
    "undo = 0\n",
    "for i in progress:\n",
    "    # print(i['relevance'])\n",
    "    if i[\"relevance\"] is not None:\n",
    "        sum = sum + i[\"relevance\"]\n",
    "    else:\n",
    "        undo = undo + 1\n",
    "        print(i[\"filename\"], i[\"progress\"])\n",
    "sum, undo"
   ]
  },
  {
   "cell_type": "code",
   "execution_count": 27,
   "metadata": {},
   "outputs": [],
   "source": [
    "progress_path = \"/home/penta/Downloads/progress.json\"\n",
    "\n",
    "\n",
    "with open(progress_path, \"r\") as f:\n",
    "    progress = json.load(f)\n",
    "    \n",
    "\n"
   ]
  },
  {
   "cell_type": "code",
   "execution_count": 31,
   "metadata": {},
   "outputs": [
    {
     "data": {
      "text/plain": [
       "(154, 122, 1846)"
      ]
     },
     "execution_count": 31,
     "metadata": {},
     "output_type": "execute_result"
    }
   ],
   "source": [
    "sum = 0\n",
    "undo = 0\n",
    "done = 0\n",
    "for i in progress:\n",
    "    # print(i['relevance'])\n",
    "    if i[\"relevance\"] is not None:\n",
    "        done = done + i[\"progress\"]\n",
    "        sum = sum + i[\"relevance\"]\n",
    "    else:\n",
    "        undo = undo + 1\n",
    "        # print(i[\"filename\"], i[\"progress\"])\n",
    "done, sum, undo"
   ]
  },
  {
   "cell_type": "code",
   "execution_count": null,
   "metadata": {},
   "outputs": [],
   "source": []
  }
 ],
 "metadata": {
  "kernelspec": {
   "display_name": "vqa-next-7sdNAgBm-py3.10",
   "language": "python",
   "name": "python3"
  },
  "language_info": {
   "codemirror_mode": {
    "name": "ipython",
    "version": 3
   },
   "file_extension": ".py",
   "mimetype": "text/x-python",
   "name": "python",
   "nbconvert_exporter": "python",
   "pygments_lexer": "ipython3",
   "version": "3.10.12"
  }
 },
 "nbformat": 4,
 "nbformat_minor": 2
}
