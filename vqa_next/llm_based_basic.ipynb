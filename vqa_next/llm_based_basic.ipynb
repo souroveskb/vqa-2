{
 "cells": [
  {
   "cell_type": "code",
   "execution_count": 20,
   "metadata": {},
   "outputs": [],
   "source": [
    "import os\n",
    "import base64\n",
    "import requests\n",
    "import pandas as pd\n",
    "from dotenv import load_dotenv\n",
    "import ast\n",
    "from tqdm.notebook import tqdm\n",
    "import time"
   ]
  },
  {
   "cell_type": "code",
   "execution_count": 21,
   "metadata": {},
   "outputs": [],
   "source": [
    "load_dotenv()\n",
    "\n",
    "OPENAI_API = os.getenv(\"OPENAI_API_KEY\") \n",
    "CLAUDE_API = os.getenv(\"CLAUDE_API_KEY\")\n",
    "# OPENAI_API"
   ]
  },
  {
   "cell_type": "code",
   "execution_count": 22,
   "metadata": {},
   "outputs": [
    {
     "data": {
      "text/html": [
       "<div>\n",
       "<style scoped>\n",
       "    .dataframe tbody tr th:only-of-type {\n",
       "        vertical-align: middle;\n",
       "    }\n",
       "\n",
       "    .dataframe tbody tr th {\n",
       "        vertical-align: top;\n",
       "    }\n",
       "\n",
       "    .dataframe thead th {\n",
       "        text-align: right;\n",
       "    }\n",
       "</style>\n",
       "<table border=\"1\" class=\"dataframe\">\n",
       "  <thead>\n",
       "    <tr style=\"text-align: right;\">\n",
       "      <th></th>\n",
       "      <th>filename</th>\n",
       "      <th>question</th>\n",
       "      <th>options</th>\n",
       "      <th>answer</th>\n",
       "      <th>category</th>\n",
       "      <th>id</th>\n",
       "    </tr>\n",
       "  </thead>\n",
       "  <tbody>\n",
       "    <tr>\n",
       "      <th>0</th>\n",
       "      <td>CHITTRON_7834.png</td>\n",
       "      <td>চিত্রের শিশুটি কোন ধরনের শিক্ষা গ্রহণ করছে?</td>\n",
       "      <td>['চারুকলা', 'গান', 'একাডেমিক', 'নৃত্য']</td>\n",
       "      <td>নৃত্য</td>\n",
       "      <td>Arts &amp; History</td>\n",
       "      <td>F3CH7834</td>\n",
       "    </tr>\n",
       "    <tr>\n",
       "      <th>1</th>\n",
       "      <td>CHITTRON_3642.png</td>\n",
       "      <td>বাংলার মর্মান্তিক ইতিহাস বহনকারী এই স্তম্ভটির ...</td>\n",
       "      <td>['স্মৃতিসৌধ', 'শহীদ মিনার', 'রাজু ভাস্কর্য', '...</td>\n",
       "      <td>শহীদ মিনার</td>\n",
       "      <td>Arts &amp; History</td>\n",
       "      <td>P9CH3642</td>\n",
       "    </tr>\n",
       "    <tr>\n",
       "      <th>2</th>\n",
       "      <td>BORNON_215.jpg</td>\n",
       "      <td>ছবিতে দেখা মুদ্রাটি কোন দেশের?</td>\n",
       "      <td>['বাংলাদেশ', 'শ্রীলঙ্কা', 'ভারত', 'পাকিস্তান']</td>\n",
       "      <td>বাংলাদেশ</td>\n",
       "      <td>Arts &amp; History</td>\n",
       "      <td>P5BO215</td>\n",
       "    </tr>\n",
       "    <tr>\n",
       "      <th>3</th>\n",
       "      <td>BNATURE_3915.jpg</td>\n",
       "      <td>ছবিতে মেয়েটি মাইক্রোফোনটি হাতে ধরে কী করছে?</td>\n",
       "      <td>['গান গাচ্ছে', 'নাচছে', 'কথা বলছে', 'পড়াশোনা ...</td>\n",
       "      <td>গান গাচ্ছে</td>\n",
       "      <td>Arts &amp; History</td>\n",
       "      <td>P5BN3915</td>\n",
       "    </tr>\n",
       "    <tr>\n",
       "      <th>4</th>\n",
       "      <td>CHITTRON_496.png</td>\n",
       "      <td>প্রাচীনকালে বাংলায় এমন বড় আকৃতির মাটির পাত্র ক...</td>\n",
       "      <td>['ধান-চাল সংরক্ষনে', 'পানি সংরক্ষনে', 'কাপড় সং...</td>\n",
       "      <td>ধান-চাল সংরক্ষনে</td>\n",
       "      <td>Arts &amp; History</td>\n",
       "      <td>P1CH496</td>\n",
       "    </tr>\n",
       "  </tbody>\n",
       "</table>\n",
       "</div>"
      ],
      "text/plain": [
       "            filename                                           question  \\\n",
       "0  CHITTRON_7834.png        চিত্রের শিশুটি কোন ধরনের শিক্ষা গ্রহণ করছে?   \n",
       "1  CHITTRON_3642.png  বাংলার মর্মান্তিক ইতিহাস বহনকারী এই স্তম্ভটির ...   \n",
       "2     BORNON_215.jpg                     ছবিতে দেখা মুদ্রাটি কোন দেশের?   \n",
       "3   BNATURE_3915.jpg       ছবিতে মেয়েটি মাইক্রোফোনটি হাতে ধরে কী করছে?   \n",
       "4   CHITTRON_496.png  প্রাচীনকালে বাংলায় এমন বড় আকৃতির মাটির পাত্র ক...   \n",
       "\n",
       "                                             options            answer  \\\n",
       "0            ['চারুকলা', 'গান', 'একাডেমিক', 'নৃত্য']             নৃত্য   \n",
       "1  ['স্মৃতিসৌধ', 'শহীদ মিনার', 'রাজু ভাস্কর্য', '...        শহীদ মিনার   \n",
       "2     ['বাংলাদেশ', 'শ্রীলঙ্কা', 'ভারত', 'পাকিস্তান']          বাংলাদেশ   \n",
       "3  ['গান গাচ্ছে', 'নাচছে', 'কথা বলছে', 'পড়াশোনা ...        গান গাচ্ছে   \n",
       "4  ['ধান-চাল সংরক্ষনে', 'পানি সংরক্ষনে', 'কাপড় সং...  ধান-চাল সংরক্ষনে   \n",
       "\n",
       "         category        id  \n",
       "0  Arts & History  F3CH7834  \n",
       "1  Arts & History  P9CH3642  \n",
       "2  Arts & History   P5BO215  \n",
       "3  Arts & History  P5BN3915  \n",
       "4  Arts & History   P1CH496  "
      ]
     },
     "execution_count": 22,
     "metadata": {},
     "output_type": "execute_result"
    }
   ],
   "source": [
    "image_path = \"../dataset/images\"\n",
    "csv_path = \"../annotation/relevants/all/test_data.csv\"\n",
    "\n",
    "test_df = pd.read_csv(csv_path)\n",
    "test_df.head()"
   ]
  },
  {
   "cell_type": "code",
   "execution_count": 23,
   "metadata": {},
   "outputs": [],
   "source": [
    "# test_df = test_df[0:1]"
   ]
  },
  {
   "cell_type": "code",
   "execution_count": 6,
   "metadata": {},
   "outputs": [],
   "source": [
    "def encode_image(image_path):\n",
    "    with open(image_path, \"rb\") as image_file:\n",
    "        return base64.b64encode(image_file.read()).decode('utf-8')        "
   ]
  },
  {
   "cell_type": "code",
   "execution_count": 7,
   "metadata": {},
   "outputs": [],
   "source": [
    "def prompt_prep(question:str, options:list):\n",
    "    return \"\"\"\n",
    "\n",
    "You are an expert multimodal AI assistant. You will be given an image as context. Based on this image, you will be asked a multiple-choice question with four options.  \n",
    "Your task is to select the most accurate answer from the given options.  \n",
    "\n",
    "### **Instructions:**  \n",
    "- The question and options will be presented in the following format:  \n",
    "    - **question:** QUESTION  \n",
    "    - **options:**  \n",
    "        1. option_a  \n",
    "        2. option_b  \n",
    "        3. option_c  \n",
    "        4. option_d  \n",
    "\n",
    "- Your response should **only contain the number** corresponding to the correct answer.  \n",
    "  - Example:  \n",
    "    - If **option 1 is correct**, respond with `\"answer: 1\"`  \n",
    "    - If **option 3 is correct**, respond with `\"answer: 3\"`  \n",
    "\n",
    "Now, answer the following question based on the provided image:  \n",
    "\n",
    "**question:** {}  \n",
    "**options:**  \n",
    "1. {}  \n",
    "2. {}  \n",
    "3. {}  \n",
    "4. {}  \n",
    "    \"\"\".format(question, options[0], options[1],options[2], options[3])"
   ]
  },
  {
   "cell_type": "code",
   "execution_count": null,
   "metadata": {},
   "outputs": [],
   "source": []
  },
  {
   "cell_type": "markdown",
   "metadata": {},
   "source": [
    "### openai"
   ]
  },
  {
   "cell_type": "code",
   "execution_count": 17,
   "metadata": {},
   "outputs": [],
   "source": [
    "def generate(question: str, image: base64, options:list):\n",
    "\n",
    "    headers = {\n",
    "        \"Content-Type\": \"application/json\",\n",
    "        \"Authorization\": f\"Bearer {OPENAI_API}\"\n",
    "    }\n",
    "    payload = {\n",
    "        \n",
    "        \"model\": \"gpt-4o-mini\",\n",
    "        \"messages\": [\n",
    "            {\n",
    "                \"role\": \"user\",\n",
    "                \"content\": [\n",
    "                    \n",
    "                    {\"type\": \"text\", \"text\": prompt_prep(question, options)},\n",
    "                    {\"type\": \"image_url\", \"image_url\": {\"url\": \n",
    "                        f\"data:image/jpeg;base64,{image}\"}}\n",
    "                ]\n",
    "            }\n",
    "        ],\n",
    "        \"max_tokens\": 30\n",
    "    }  \n",
    "    \n",
    "    response = requests.post(\"https://api.openai.com/v1/chat/completions\", headers=headers, json=payload)\n",
    "    \n",
    "    return response.json() #['choices'][0]['message']['content']\n"
   ]
  },
  {
   "cell_type": "code",
   "execution_count": 18,
   "metadata": {},
   "outputs": [],
   "source": [
    "def generate_answer(item):\n",
    "    image = encode_image(f\"{image_path}/{item['filename']}\")\n",
    "    question = item[\"question\"]\n",
    "    options = ast.literal_eval(item[\"options\"])\n",
    "    response = generate(question, image, options)\n",
    "    print(response['choices'][0]['message']['content'])\n",
    "    return response['choices'][0]['message']['content']"
   ]
  },
  {
   "cell_type": "code",
   "execution_count": 19,
   "metadata": {},
   "outputs": [
    {
     "name": "stdout",
     "output_type": "stream",
     "text": [
      "answer: 4\n"
     ]
    }
   ],
   "source": [
    "test_df[\"openai_response\"] = test_df.apply(generate_answer, axis=1)"
   ]
  },
  {
   "cell_type": "code",
   "execution_count": 16,
   "metadata": {},
   "outputs": [
    {
     "data": {
      "text/html": [
       "<div>\n",
       "<style scoped>\n",
       "    .dataframe tbody tr th:only-of-type {\n",
       "        vertical-align: middle;\n",
       "    }\n",
       "\n",
       "    .dataframe tbody tr th {\n",
       "        vertical-align: top;\n",
       "    }\n",
       "\n",
       "    .dataframe thead th {\n",
       "        text-align: right;\n",
       "    }\n",
       "</style>\n",
       "<table border=\"1\" class=\"dataframe\">\n",
       "  <thead>\n",
       "    <tr style=\"text-align: right;\">\n",
       "      <th></th>\n",
       "      <th>filename</th>\n",
       "      <th>question</th>\n",
       "      <th>options</th>\n",
       "      <th>answer</th>\n",
       "      <th>category</th>\n",
       "      <th>id</th>\n",
       "      <th>openai_response2</th>\n",
       "    </tr>\n",
       "  </thead>\n",
       "  <tbody>\n",
       "    <tr>\n",
       "      <th>0</th>\n",
       "      <td>CHITTRON_7834.png</td>\n",
       "      <td>চিত্রের শিশুটি কোন ধরনের শিক্ষা গ্রহণ করছে?</td>\n",
       "      <td>['চারুকলা', 'গান', 'একাডেমিক', 'নৃত্য']</td>\n",
       "      <td>নৃত্য</td>\n",
       "      <td>Arts &amp; History</td>\n",
       "      <td>F3CH7834</td>\n",
       "      <td>answer: 2</td>\n",
       "    </tr>\n",
       "  </tbody>\n",
       "</table>\n",
       "</div>"
      ],
      "text/plain": [
       "            filename                                     question  \\\n",
       "0  CHITTRON_7834.png  চিত্রের শিশুটি কোন ধরনের শিক্ষা গ্রহণ করছে?   \n",
       "\n",
       "                                   options answer        category        id  \\\n",
       "0  ['চারুকলা', 'গান', 'একাডেমিক', 'নৃত্য']  নৃত্য  Arts & History  F3CH7834   \n",
       "\n",
       "  openai_response2  \n",
       "0        answer: 2  "
      ]
     },
     "execution_count": 16,
     "metadata": {},
     "output_type": "execute_result"
    }
   ],
   "source": [
    "test_df"
   ]
  },
  {
   "cell_type": "markdown",
   "metadata": {},
   "source": [
    "### claude"
   ]
  },
  {
   "cell_type": "code",
   "execution_count": 9,
   "metadata": {},
   "outputs": [
    {
     "name": "stdout",
     "output_type": "stream",
     "text": [
      "Tears of ancient earth,\n",
      "Minerals dissolved in time,\n",
      "Rivers carry salt to sea -\n",
      "Nature's briny paradigm.\n",
      "\n",
      "Eons pass, waves roll on,\n",
      "Each drop holds earth's history,\n",
      "While creatures swim in crystal depths\n",
      "Of this eternal salty sea.\n"
     ]
    }
   ],
   "source": [
    "import anthropic\n",
    "\n",
    "client = anthropic.Anthropic(api_key=CLAUDE_API)\n",
    "\n",
    "message = client.messages.create(\n",
    "    model=\"claude-3-5-sonnet-20241022\",\n",
    "    max_tokens=1000,\n",
    "    temperature=0,\n",
    "    system=\"You are a world-class poet. Respond only with short poems.\",\n",
    "    messages=[\n",
    "        {\n",
    "            \"role\": \"user\",\n",
    "            \"content\": [\n",
    "                {\n",
    "                    \"type\": \"text\",\n",
    "                    \"text\": \"Why is the ocean salty?\"\n",
    "                }\n",
    "            ]\n",
    "        }\n",
    "    ]\n",
    ")\n",
    "print(message.content[0].text)\n"
   ]
  },
  {
   "cell_type": "code",
   "execution_count": 10,
   "metadata": {},
   "outputs": [
    {
     "data": {
      "text/plain": [
       "Message(id='msg_01HFEizqfpzYNy36qTxNJc7D', content=[TextBlock(citations=None, text=\"Tears of ancient earth,\\nMinerals dissolved in time,\\nRivers carry salt to sea -\\nNature's briny paradigm.\\n\\nEons pass, waves roll on,\\nEach drop holds earth's history,\\nWhile creatures swim in crystal depths\\nOf this eternal salty sea.\", type='text')], model='claude-3-5-sonnet-20241022', role='assistant', stop_reason='end_turn', stop_sequence=None, type='message', usage=Usage(cache_creation_input_tokens=0, cache_read_input_tokens=0, input_tokens=29, output_tokens=64))"
      ]
     },
     "execution_count": 10,
     "metadata": {},
     "output_type": "execute_result"
    }
   ],
   "source": [
    "message"
   ]
  },
  {
   "cell_type": "code",
   "execution_count": 14,
   "metadata": {},
   "outputs": [
    {
     "data": {
      "text/plain": [
       "93"
      ]
     },
     "execution_count": 14,
     "metadata": {},
     "output_type": "execute_result"
    }
   ],
   "source": [
    "\n",
    "message.usage.input_tokens + message.usage.output_tokens"
   ]
  },
  {
   "cell_type": "code",
   "execution_count": null,
   "metadata": {},
   "outputs": [],
   "source": []
  }
 ],
 "metadata": {
  "kernelspec": {
   "display_name": "vqa-next-eInyQkxN-py3.10",
   "language": "python",
   "name": "python3"
  },
  "language_info": {
   "codemirror_mode": {
    "name": "ipython",
    "version": 3
   },
   "file_extension": ".py",
   "mimetype": "text/x-python",
   "name": "python",
   "nbconvert_exporter": "python",
   "pygments_lexer": "ipython3",
   "version": "3.10.12"
  }
 },
 "nbformat": 4,
 "nbformat_minor": 2
}
