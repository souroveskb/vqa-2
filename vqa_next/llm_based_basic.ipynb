{
 "cells": [
  {
   "cell_type": "code",
   "execution_count": 1,
   "metadata": {},
   "outputs": [],
   "source": [
    "import os\n",
    "import base64\n",
    "import requests\n",
    "import pandas as pd\n",
    "from dotenv import load_dotenv\n",
    "import ast\n",
    "from tqdm.notebook import tqdm\n",
    "import time"
   ]
  },
  {
   "cell_type": "code",
   "execution_count": 52,
   "metadata": {},
   "outputs": [],
   "source": [
    "load_dotenv()\n",
    "\n",
    "OPENAI_API = os.getenv(\"OPENAI_API_KEY\") \n",
    "CLAUDE_API = os.getenv(\"CLAUDE_API_KEY\")\n",
    "# OPENAI_API"
   ]
  },
  {
   "cell_type": "code",
   "execution_count": 53,
   "metadata": {},
   "outputs": [
    {
     "data": {
      "text/html": [
       "<div>\n",
       "<style scoped>\n",
       "    .dataframe tbody tr th:only-of-type {\n",
       "        vertical-align: middle;\n",
       "    }\n",
       "\n",
       "    .dataframe tbody tr th {\n",
       "        vertical-align: top;\n",
       "    }\n",
       "\n",
       "    .dataframe thead th {\n",
       "        text-align: right;\n",
       "    }\n",
       "</style>\n",
       "<table border=\"1\" class=\"dataframe\">\n",
       "  <thead>\n",
       "    <tr style=\"text-align: right;\">\n",
       "      <th></th>\n",
       "      <th>Category</th>\n",
       "      <th>level</th>\n",
       "      <th>id</th>\n",
       "      <th>filename</th>\n",
       "      <th>question</th>\n",
       "      <th>options</th>\n",
       "      <th>answer</th>\n",
       "      <th>category</th>\n",
       "    </tr>\n",
       "  </thead>\n",
       "  <tbody>\n",
       "    <tr>\n",
       "      <th>0</th>\n",
       "      <td>Food</td>\n",
       "      <td>Hard</td>\n",
       "      <td>F1CH3963</td>\n",
       "      <td>CHITTRON_3963.png</td>\n",
       "      <td>ছবিতে থাকা লোকটি কী করে?</td>\n",
       "      <td>['কাঠের কাজ', 'রুটি বানায়', 'মাটির কাজ', 'ইটের...</td>\n",
       "      <td>রুটি বানায়</td>\n",
       "      <td>Food</td>\n",
       "    </tr>\n",
       "    <tr>\n",
       "      <th>1</th>\n",
       "      <td>Food</td>\n",
       "      <td>Hard</td>\n",
       "      <td>P6BN4733</td>\n",
       "      <td>BNATURE_4733.jpg</td>\n",
       "      <td>শুটকি কোন শহরে বেশি পাওয়া যায়?</td>\n",
       "      <td>['ঢাকা', 'সিলেট', 'চট্টগ্রাম', 'যশোর']</td>\n",
       "      <td>চট্টগ্রাম</td>\n",
       "      <td>Food</td>\n",
       "    </tr>\n",
       "  </tbody>\n",
       "</table>\n",
       "</div>"
      ],
      "text/plain": [
       "  Category level        id           filename                        question  \\\n",
       "0     Food  Hard  F1CH3963  CHITTRON_3963.png        ছবিতে থাকা লোকটি কী করে?   \n",
       "1     Food  Hard  P6BN4733   BNATURE_4733.jpg  শুটকি কোন শহরে বেশি পাওয়া যায়?   \n",
       "\n",
       "                                             options      answer category  \n",
       "0  ['কাঠের কাজ', 'রুটি বানায়', 'মাটির কাজ', 'ইটের...  রুটি বানায়     Food  \n",
       "1             ['ঢাকা', 'সিলেট', 'চট্টগ্রাম', 'যশোর']   চট্টগ্রাম     Food  "
      ]
     },
     "execution_count": 53,
     "metadata": {},
     "output_type": "execute_result"
    }
   ],
   "source": [
    "image_path = \"../dataset/images\"\n",
    "csv_path = \"outputs/test_data_openai.csv\"\n",
    "full_csv = \"/home/sourove/code/Python/vqa-2/annotation/relevants/all/compiled_data.csv\"\n",
    "hedf_csv = \"/home/sourove/code/Python/vqa-2/vqa_next/outputs/category_level - Sheet1.csv\"\n",
    "\n",
    "\n",
    "full_df = pd.read_csv(full_csv)\n",
    "he_df = pd.read_csv(hedf_csv)\n",
    "test_df = pd.read_csv(csv_path)\n",
    "# test_df.head(2)\n",
    "merged = pd.merge(he_df, full_df, 'left', on='id')\n",
    "merged.head(2)"
   ]
  },
  {
   "cell_type": "code",
   "execution_count": 54,
   "metadata": {},
   "outputs": [
    {
     "data": {
      "text/plain": [
       "(Category             0\n",
       " level                0\n",
       " id                   0\n",
       " filename             0\n",
       " question             0\n",
       " options              0\n",
       " answer               0\n",
       " category             0\n",
       " openai_response    112\n",
       " dtype: int64,\n",
       " (135, 9))"
      ]
     },
     "execution_count": 54,
     "metadata": {},
     "output_type": "execute_result"
    }
   ],
   "source": [
    "# test_df = test_df[:1]\n",
    "merged_new = pd.merge(merged, test_df, 'left', on=['id', 'filename', 'question', 'options', 'answer', 'category'], suffixes=('_df1', '_df2'))\n",
    "\n",
    "merged_new.isna().sum(), merged_new.shape"
   ]
  },
  {
   "cell_type": "code",
   "execution_count": 55,
   "metadata": {},
   "outputs": [
    {
     "data": {
      "text/plain": [
       "{'\"answer: 4\"', 'answer: 1', 'answer: 2', 'answer: 3', 'answer: 4', nan}"
      ]
     },
     "execution_count": 55,
     "metadata": {},
     "output_type": "execute_result"
    }
   ],
   "source": [
    "set(merged_new['openai_response'])"
   ]
  },
  {
   "cell_type": "code",
   "execution_count": 56,
   "metadata": {},
   "outputs": [],
   "source": [
    "def prompt_prep(question:str, options:list):\n",
    "    return \"\"\"\n",
    "\n",
    "You are an expert multimodal AI assistant. You will be given an image as context. Based on this image, you will be asked a multiple-choice question with four options.  \n",
    "Your task is to select the most accurate answer from the given options.  \n",
    "\n",
    "### **Instructions:**  \n",
    "- The question and options will be presented in the following format:  \n",
    "    - **question:** QUESTION  \n",
    "    - **options:**  \n",
    "        1. option_a  \n",
    "        2. option_b  \n",
    "        3. option_c  \n",
    "        4. option_d  \n",
    "\n",
    "- Your response should **only contain the number** corresponding to the correct answer.  \n",
    "  - Example:  \n",
    "    - If **option 1 is correct**, respond with `\"answer: 1\"`  \n",
    "    - If **option 3 is correct**, respond with `\"answer: 3\"`  \n",
    "\n",
    "Now, answer the following question based on the provided image:  \n",
    "\n",
    "**question:** {}  \n",
    "**options:**  \n",
    "1. {}  \n",
    "2. {}  \n",
    "3. {}  \n",
    "4. {}  \n",
    "\n",
    "# IMPORTANT You must follow the output format \"answer: _correct_option_\" only\n",
    "\n",
    "    \"\"\".format(question, options[0], options[1],options[2], options[3])"
   ]
  },
  {
   "cell_type": "code",
   "execution_count": null,
   "metadata": {},
   "outputs": [],
   "source": []
  },
  {
   "cell_type": "code",
   "execution_count": 57,
   "metadata": {},
   "outputs": [],
   "source": [
    "import datetime\n",
    "\n",
    "def append_to_file(file_name, data):\n",
    "    timestamp = datetime.datetime.now().strftime('%Y-%m-%d %H:%M:%S')\n",
    "    with open(file_name, 'a') as file:\n",
    "        file.write(f'{data}\\n')\n",
    "\n",
    "# append_to_file('openai_cost.txt', f'This is the data to append.')"
   ]
  },
  {
   "cell_type": "markdown",
   "metadata": {},
   "source": [
    "### openai"
   ]
  },
  {
   "cell_type": "code",
   "execution_count": 58,
   "metadata": {},
   "outputs": [],
   "source": [
    "def encode_image(image_path):\n",
    "    with open(image_path, \"rb\") as image_file:\n",
    "        return base64.b64encode(image_file.read()).decode('utf-8')        "
   ]
  },
  {
   "cell_type": "code",
   "execution_count": 60,
   "metadata": {},
   "outputs": [],
   "source": [
    "def generate(question: str, image: base64, options:list, imgtype: str):\n",
    "\n",
    "    headers = {\n",
    "        \"Content-Type\": \"application/json\",\n",
    "        \"Authorization\": f\"Bearer {OPENAI_API}\"\n",
    "    }\n",
    "    payload = {\n",
    "        \n",
    "        \"model\": \"gpt-4o-mini\",\n",
    "        \"messages\": [\n",
    "            {\n",
    "                \"role\": \"user\",\n",
    "                \"content\": [\n",
    "                    \n",
    "                    {\"type\": \"text\", \"text\": prompt_prep(question, options)},\n",
    "                    {\"type\": \"image_url\", \"image_url\": {\"url\": \n",
    "                        f\"data:{imgtype};base64,{image}\"}}\n",
    "                ]\n",
    "            }\n",
    "        ],\n",
    "        \"max_tokens\":1000\n",
    "    }  \n",
    "    \n",
    "    response = requests.post(\"https://api.openai.com/v1/chat/completions\", headers=headers, json=payload)\n",
    "    \n",
    "    return response.json() #['choices'][0]['message']['content']\n"
   ]
  },
  {
   "cell_type": "code",
   "execution_count": 61,
   "metadata": {},
   "outputs": [],
   "source": [
    "# cost calculation\n",
    "total_cost = 0\n",
    "total_input = 0\n",
    "total_output = 0\n",
    "\n",
    "def cost_calculation(response):\n",
    "    cost = response['usage']['prompt_tokens'] * .15 / 1000000+ response['usage']['completion_tokens'] * .60 / 1000000\n",
    "    return cost"
   ]
  },
  {
   "cell_type": "code",
   "execution_count": 62,
   "metadata": {},
   "outputs": [],
   "source": [
    "def generate_answer(item):\n",
    "    image = encode_image(f\"{image_path}/{item['filename']}\")\n",
    "    question = item[\"question\"]\n",
    "    options = ast.literal_eval(item[\"options\"])\n",
    "    if item['filename'].endswith(\".jpg\"):\n",
    "        imgtype = \"image/jpeg\"\n",
    "    else:\n",
    "        imgtype = \"image/png\"\n",
    "        \n",
    "    if pd.isna(item[\"openai_response\"]):\n",
    "        response = generate(question, image, options, imgtype=imgtype)\n",
    "    else:\n",
    "        # print(item[\"openai_response\"])\n",
    "        return item[\"openai_response\"]\n",
    "    \n",
    "    # cost = response['usage']['prompt_tokens'] * .15 / 1000000+ response['usage']['completion_tokens'] * .60 / 1000000\n",
    "    # append_to_file('openai_cost.txt', cost)\n",
    "    \n",
    "    time.sleep(1)\n",
    "    return response['choices'][0]['message']['content']"
   ]
  },
  {
   "cell_type": "code",
   "execution_count": 49,
   "metadata": {},
   "outputs": [],
   "source": [
    "# test_df = merged_new[0:10]"
   ]
  },
  {
   "cell_type": "code",
   "execution_count": 63,
   "metadata": {},
   "outputs": [],
   "source": [
    "merged_new[\"openai_response\"] = merged_new.apply(generate_answer, axis=1)"
   ]
  },
  {
   "cell_type": "code",
   "execution_count": 65,
   "metadata": {},
   "outputs": [
    {
     "data": {
      "text/plain": [
       "Category           0\n",
       "level              0\n",
       "id                 0\n",
       "filename           0\n",
       "question           0\n",
       "options            0\n",
       "answer             0\n",
       "category           0\n",
       "openai_response    0\n",
       "dtype: int64"
      ]
     },
     "execution_count": 65,
     "metadata": {},
     "output_type": "execute_result"
    }
   ],
   "source": [
    "merged_new.isna().sum()"
   ]
  },
  {
   "cell_type": "code",
   "execution_count": 153,
   "metadata": {},
   "outputs": [],
   "source": [
    "# test_df.to_csv(\"outputs/test_data_openai_cultural.csv\", index=False)"
   ]
  },
  {
   "cell_type": "code",
   "execution_count": 66,
   "metadata": {},
   "outputs": [],
   "source": [
    "merged_new.to_csv(\"outputs/level_tagged.csv\", index=False)"
   ]
  },
  {
   "cell_type": "code",
   "execution_count": null,
   "metadata": {},
   "outputs": [],
   "source": [
    "## ID fix P9BO2437  P9BO2654 P2CH6109 P7BN7212 P1CH5416 BNATURE_1295 F1CH5299 P8CH228"
   ]
  },
  {
   "cell_type": "markdown",
   "metadata": {},
   "source": [
    "### claude"
   ]
  },
  {
   "cell_type": "code",
   "execution_count": 6,
   "metadata": {},
   "outputs": [],
   "source": [
    "# img = f\"{image_path}/CHITTRON_7834.png\""
   ]
  },
  {
   "cell_type": "code",
   "execution_count": 24,
   "metadata": {},
   "outputs": [],
   "source": [
    "def encode_image_claude(image_path):\n",
    "    with open(image_path, \"rb\") as image_file:\n",
    "        return base64.standard_b64encode(image_file.read()).decode('utf-8')        "
   ]
  },
  {
   "cell_type": "code",
   "execution_count": 25,
   "metadata": {},
   "outputs": [],
   "source": [
    "import anthropic\n",
    "\n",
    "client = anthropic.Anthropic(api_key=CLAUDE_API)"
   ]
  },
  {
   "cell_type": "code",
   "execution_count": 26,
   "metadata": {},
   "outputs": [],
   "source": [
    "def generate_claude(question: str, filename: str, options:list):\n",
    "    \n",
    "    image_media_type = \"image/jpeg\" if filename.endswith(\".jpg\") else \"image/png\" \n",
    "    image_data = encode_image_claude(f\"{image_path}/{filename}\")\n",
    "    max_retries = 3\n",
    "    retry_delay = 60\n",
    "    # print(prompt_prep(question, options))\n",
    "    for attempt in range(max_retries):\n",
    "        try:\n",
    "            message = client.messages.create(\n",
    "                model=\"claude-3-5-sonnet-20241022\",\n",
    "                max_tokens=1024,\n",
    "                messages=[{   \n",
    "                    \"role\": \"user\",\n",
    "                    \"content\": [\n",
    "                        {   \"type\": \"text\",\n",
    "                            \"text\": prompt_prep(question, options)\n",
    "                        },\n",
    "                        {   \"type\": \"image\",\n",
    "                            \"source\": {\n",
    "                                \"type\": \"base64\",\n",
    "                                \"media_type\": image_media_type,\n",
    "                                \"data\": image_data,\n",
    "                            },\n",
    "                        }                \n",
    "                    ],}],\n",
    "            )            \n",
    "            return message\n",
    "            \n",
    "        except anthropic.RateLimitError:\n",
    "            if attempt < max_retries - 1:\n",
    "                print(f\"Rate limit hit. Waiting {retry_delay} seconds before retry...\")\n",
    "                time.sleep(retry_delay)\n",
    "            else:\n",
    "                raise\n",
    "    "
   ]
  },
  {
   "cell_type": "code",
   "execution_count": 33,
   "metadata": {},
   "outputs": [],
   "source": [
    "column_name = 'claude_response'\n",
    "# test_df.loc[:,column_name] = None"
   ]
  },
  {
   "cell_type": "code",
   "execution_count": 34,
   "metadata": {},
   "outputs": [],
   "source": [
    "def generate_answer_claude(item):\n",
    "    image = item['filename']\n",
    "    question = item[\"question\"]\n",
    "    options = ast.literal_eval(item[\"options\"])\n",
    "    \n",
    "    message = generate_claude(question, image, options)\n",
    "    \n",
    "    cost = message.usage.input_tokens * 3.75/1000000 + message.usage.output_tokens * 15/1000000\n",
    "    \n",
    "    append_to_file('claude_cost.txt', cost)\n",
    "    \n",
    "    return message.content[0].text"
   ]
  },
  {
   "cell_type": "code",
   "execution_count": 35,
   "metadata": {},
   "outputs": [],
   "source": [
    "# test_df[\"claude_response\"] = test_df.apply(generate_answer_claude, axis=1)"
   ]
  },
  {
   "cell_type": "code",
   "execution_count": 47,
   "metadata": {},
   "outputs": [
    {
     "data": {
      "text/html": [
       "<div>\n",
       "<style scoped>\n",
       "    .dataframe tbody tr th:only-of-type {\n",
       "        vertical-align: middle;\n",
       "    }\n",
       "\n",
       "    .dataframe tbody tr th {\n",
       "        vertical-align: top;\n",
       "    }\n",
       "\n",
       "    .dataframe thead th {\n",
       "        text-align: right;\n",
       "    }\n",
       "</style>\n",
       "<table border=\"1\" class=\"dataframe\">\n",
       "  <thead>\n",
       "    <tr style=\"text-align: right;\">\n",
       "      <th></th>\n",
       "      <th>filename</th>\n",
       "      <th>question</th>\n",
       "      <th>options</th>\n",
       "      <th>answer</th>\n",
       "      <th>category</th>\n",
       "      <th>id</th>\n",
       "      <th>openai_response</th>\n",
       "      <th>claude_response</th>\n",
       "    </tr>\n",
       "  </thead>\n",
       "  <tbody>\n",
       "    <tr>\n",
       "      <th>416</th>\n",
       "      <td>CHITTRON_5465.png</td>\n",
       "      <td>ছবিতে কার ভাস্কর্য আছে?</td>\n",
       "      <td>['ভাল্মিকি', 'বুধদেব', 'শীব', 'বলদেব']</td>\n",
       "      <td>ভাল্মিকি</td>\n",
       "      <td>Religious Events</td>\n",
       "      <td>P1CH5465</td>\n",
       "      <td>answer: 3</td>\n",
       "      <td>NaN</td>\n",
       "    </tr>\n",
       "  </tbody>\n",
       "</table>\n",
       "</div>"
      ],
      "text/plain": [
       "              filename                 question  \\\n",
       "416  CHITTRON_5465.png  ছবিতে কার ভাস্কর্য আছে?   \n",
       "\n",
       "                                    options    answer          category  \\\n",
       "416  ['ভাল্মিকি', 'বুধদেব', 'শীব', 'বলদেব']  ভাল্মিকি  Religious Events   \n",
       "\n",
       "           id openai_response claude_response  \n",
       "416  P1CH5465       answer: 3             NaN  "
      ]
     },
     "execution_count": 47,
     "metadata": {},
     "output_type": "execute_result"
    }
   ],
   "source": [
    "slicedf = test_df.iloc[416:417] #416\n",
    "slicedf.head(3)"
   ]
  },
  {
   "cell_type": "code",
   "execution_count": null,
   "metadata": {},
   "outputs": [],
   "source": []
  },
  {
   "cell_type": "code",
   "execution_count": 48,
   "metadata": {},
   "outputs": [
    {
     "name": "stdout",
     "output_type": "stream",
     "text": [
      "done: CHITTRON_5465.png and idx:  416  answer:  answer: 1\n"
     ]
    }
   ],
   "source": [
    "for idx, row in (slicedf.iterrows()):\n",
    "        \n",
    "    # image = row['filename']\n",
    "    \n",
    "    # # image = Image.open(f\"{image_path}/{image}\")\n",
    "    \n",
    "    # question = row[\"question\"]\n",
    "    # options = ast.literal_eval(row[\"options\"])\n",
    "\n",
    "    \n",
    "    response = generate_answer_claude(row)\n",
    "\n",
    "    test_df.loc[test_df['id'] == str(row['id']), column_name] = response\n",
    "    \n",
    "    print(f\"done: {row['filename']} and idx: \",idx,\" answer: \", str(response))\n",
    "    \n",
    "    time.sleep(1)"
   ]
  },
  {
   "cell_type": "code",
   "execution_count": 50,
   "metadata": {},
   "outputs": [
    {
     "data": {
      "text/html": [
       "<div>\n",
       "<style scoped>\n",
       "    .dataframe tbody tr th:only-of-type {\n",
       "        vertical-align: middle;\n",
       "    }\n",
       "\n",
       "    .dataframe tbody tr th {\n",
       "        vertical-align: top;\n",
       "    }\n",
       "\n",
       "    .dataframe thead th {\n",
       "        text-align: right;\n",
       "    }\n",
       "</style>\n",
       "<table border=\"1\" class=\"dataframe\">\n",
       "  <thead>\n",
       "    <tr style=\"text-align: right;\">\n",
       "      <th></th>\n",
       "      <th>filename</th>\n",
       "      <th>question</th>\n",
       "      <th>options</th>\n",
       "      <th>answer</th>\n",
       "      <th>category</th>\n",
       "      <th>id</th>\n",
       "      <th>openai_response</th>\n",
       "      <th>claude_response</th>\n",
       "    </tr>\n",
       "  </thead>\n",
       "  <tbody>\n",
       "    <tr>\n",
       "      <th>0</th>\n",
       "      <td>CHITTRON_7834.png</td>\n",
       "      <td>চিত্রের শিশুটি কোন ধরনের শিক্ষা গ্রহণ করছে?</td>\n",
       "      <td>['চারুকলা', 'গান', 'একাডেমিক', 'নৃত্য']</td>\n",
       "      <td>নৃত্য</td>\n",
       "      <td>Arts &amp; History</td>\n",
       "      <td>F3CH7834</td>\n",
       "      <td>answer: 4</td>\n",
       "      <td>answer: 4</td>\n",
       "    </tr>\n",
       "    <tr>\n",
       "      <th>1</th>\n",
       "      <td>CHITTRON_3642.png</td>\n",
       "      <td>বাংলার মর্মান্তিক ইতিহাস বহনকারী এই স্তম্ভটির ...</td>\n",
       "      <td>['স্মৃতিসৌধ', 'শহীদ মিনার', 'রাজু ভাস্কর্য', '...</td>\n",
       "      <td>শহীদ মিনার</td>\n",
       "      <td>Arts &amp; History</td>\n",
       "      <td>P9CH3642</td>\n",
       "      <td>answer: 2</td>\n",
       "      <td>answer: 2\\n\\nThe image shows the Shaheed Minar...</td>\n",
       "    </tr>\n",
       "  </tbody>\n",
       "</table>\n",
       "</div>"
      ],
      "text/plain": [
       "            filename                                           question  \\\n",
       "0  CHITTRON_7834.png        চিত্রের শিশুটি কোন ধরনের শিক্ষা গ্রহণ করছে?   \n",
       "1  CHITTRON_3642.png  বাংলার মর্মান্তিক ইতিহাস বহনকারী এই স্তম্ভটির ...   \n",
       "\n",
       "                                             options      answer  \\\n",
       "0            ['চারুকলা', 'গান', 'একাডেমিক', 'নৃত্য']       নৃত্য   \n",
       "1  ['স্মৃতিসৌধ', 'শহীদ মিনার', 'রাজু ভাস্কর্য', '...  শহীদ মিনার   \n",
       "\n",
       "         category        id openai_response  \\\n",
       "0  Arts & History  F3CH7834       answer: 4   \n",
       "1  Arts & History  P9CH3642       answer: 2   \n",
       "\n",
       "                                     claude_response  \n",
       "0                                          answer: 4  \n",
       "1  answer: 2\\n\\nThe image shows the Shaheed Minar...  "
      ]
     },
     "execution_count": 50,
     "metadata": {},
     "output_type": "execute_result"
    }
   ],
   "source": [
    "test_df.head(2)"
   ]
  },
  {
   "cell_type": "code",
   "execution_count": 51,
   "metadata": {},
   "outputs": [],
   "source": [
    "test_df.to_csv(\"outputs/test_data_claude.csv\", index=False)"
   ]
  },
  {
   "cell_type": "code",
   "execution_count": 46,
   "metadata": {},
   "outputs": [],
   "source": [
    "from PIL import Image\n"
   ]
  },
  {
   "cell_type": "code",
   "execution_count": 49,
   "metadata": {},
   "outputs": [],
   "source": [
    "# def compress_image(input_path, max_size_kb=5000):\n",
    "#     img = Image.open(input_path)\n",
    "#     img.save(input_path, optimize=True, quality=50)\n",
    "\n",
    "# compress_image()"
   ]
  },
  {
   "cell_type": "markdown",
   "metadata": {},
   "source": [
    "### Complexity test"
   ]
  },
  {
   "cell_type": "code",
   "execution_count": null,
   "metadata": {},
   "outputs": [],
   "source": []
  }
 ],
 "metadata": {
  "kernelspec": {
   "display_name": "vqa-next-eInyQkxN-py3.10",
   "language": "python",
   "name": "python3"
  },
  "language_info": {
   "codemirror_mode": {
    "name": "ipython",
    "version": 3
   },
   "file_extension": ".py",
   "mimetype": "text/x-python",
   "name": "python",
   "nbconvert_exporter": "python",
   "pygments_lexer": "ipython3",
   "version": "3.10.12"
  }
 },
 "nbformat": 4,
 "nbformat_minor": 2
}
