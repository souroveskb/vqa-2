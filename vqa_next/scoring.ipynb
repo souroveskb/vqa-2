{
 "cells": [
  {
   "cell_type": "code",
   "execution_count": 2,
   "metadata": {},
   "outputs": [],
   "source": [
    "import pandas as pd\n",
    "import re\n",
    "import ast"
   ]
  },
  {
   "cell_type": "code",
   "execution_count": 3,
   "metadata": {},
   "outputs": [
    {
     "data": {
      "text/html": [
       "<div>\n",
       "<style scoped>\n",
       "    .dataframe tbody tr th:only-of-type {\n",
       "        vertical-align: middle;\n",
       "    }\n",
       "\n",
       "    .dataframe tbody tr th {\n",
       "        vertical-align: top;\n",
       "    }\n",
       "\n",
       "    .dataframe thead th {\n",
       "        text-align: right;\n",
       "    }\n",
       "</style>\n",
       "<table border=\"1\" class=\"dataframe\">\n",
       "  <thead>\n",
       "    <tr style=\"text-align: right;\">\n",
       "      <th></th>\n",
       "      <th>filename</th>\n",
       "      <th>question</th>\n",
       "      <th>options</th>\n",
       "      <th>answer</th>\n",
       "      <th>category</th>\n",
       "      <th>llava_answer</th>\n",
       "    </tr>\n",
       "  </thead>\n",
       "  <tbody>\n",
       "    <tr>\n",
       "      <th>0</th>\n",
       "      <td>BNATURE_3167.jpg</td>\n",
       "      <td>ছবিটি কোন ধর্মাবলম্বীদের প্রার্থনা স্থান?</td>\n",
       "      <td>['হিন্দু', 'মুসলিম', 'বৌদ্ধ', 'খ্রিস্টান']</td>\n",
       "      <td>মুসলিম</td>\n",
       "      <td>Arts &amp; History</td>\n",
       "      <td>The image depicts a mosque with Persian scrip...</td>\n",
       "    </tr>\n",
       "    <tr>\n",
       "      <th>1</th>\n",
       "      <td>BORNON_3694.jpg</td>\n",
       "      <td>এই মহিলাটি কোন ঐতিহ্যবাহী পোশাক পরেছেন?</td>\n",
       "      <td>['শাড়ি', 'কুর্তা', 'লেহেঙ্গা', 'সালোয়ার কামিজ']</td>\n",
       "      <td>শাড়ি</td>\n",
       "      <td>Arts &amp; History</td>\n",
       "      <td>answer: 1</td>\n",
       "    </tr>\n",
       "    <tr>\n",
       "      <th>2</th>\n",
       "      <td>CHITTRON_3491.png</td>\n",
       "      <td>চিত্র প্রদর্শিত মাছটি বাংলাদেশের কি হিসেবে অভি...</td>\n",
       "      <td>['জাতীয় মাছ', 'সাধারণ মাছ', 'ছোট মাছ', 'কোনটি...</td>\n",
       "      <td>জাতীয় মাছ</td>\n",
       "      <td>Arts &amp; History</td>\n",
       "      <td>answer: 1</td>\n",
       "    </tr>\n",
       "  </tbody>\n",
       "</table>\n",
       "</div>"
      ],
      "text/plain": [
       "            filename                                           question  \\\n",
       "0   BNATURE_3167.jpg          ছবিটি কোন ধর্মাবলম্বীদের প্রার্থনা স্থান?   \n",
       "1    BORNON_3694.jpg            এই মহিলাটি কোন ঐতিহ্যবাহী পোশাক পরেছেন?   \n",
       "2  CHITTRON_3491.png  চিত্র প্রদর্শিত মাছটি বাংলাদেশের কি হিসেবে অভি...   \n",
       "\n",
       "                                             options      answer  \\\n",
       "0         ['হিন্দু', 'মুসলিম', 'বৌদ্ধ', 'খ্রিস্টান']      মুসলিম   \n",
       "1  ['শাড়ি', 'কুর্তা', 'লেহেঙ্গা', 'সালোয়ার কামিজ']       শাড়ি   \n",
       "2  ['জাতীয় মাছ', 'সাধারণ মাছ', 'ছোট মাছ', 'কোনটি...  জাতীয় মাছ   \n",
       "\n",
       "         category                                       llava_answer  \n",
       "0  Arts & History   The image depicts a mosque with Persian scrip...  \n",
       "1  Arts & History                                         answer: 1   \n",
       "2  Arts & History                                         answer: 1   "
      ]
     },
     "execution_count": 3,
     "metadata": {},
     "output_type": "execute_result"
    }
   ],
   "source": [
    "llava_path = 'outputs/llava_answer.csv'\n",
    "llava_df = pd.read_csv(llava_path)\n",
    "\n",
    "llava_df.head(3)"
   ]
  },
  {
   "cell_type": "code",
   "execution_count": 4,
   "metadata": {},
   "outputs": [],
   "source": [
    "def extract_number(strings):\n",
    "    for s in strings:\n",
    "        match = re.search(r'\\d+', s)  \n",
    "        if match:\n",
    "            return int(match.group())  \n",
    "    return -1 "
   ]
  },
  {
   "cell_type": "code",
   "execution_count": 5,
   "metadata": {},
   "outputs": [],
   "source": [
    "# pf = llava_df[['filename'] == 'BORNON_3864.jpg']\n",
    "# str(llava_df[llava_df['filename'] == 'BORNON_3864.jpg']['llava_answer'])\n",
    "llava_df['llava_answer'] = llava_df['llava_answer'].apply(extract_number)"
   ]
  },
  {
   "cell_type": "code",
   "execution_count": 6,
   "metadata": {},
   "outputs": [
    {
     "data": {
      "text/html": [
       "<div>\n",
       "<style scoped>\n",
       "    .dataframe tbody tr th:only-of-type {\n",
       "        vertical-align: middle;\n",
       "    }\n",
       "\n",
       "    .dataframe tbody tr th {\n",
       "        vertical-align: top;\n",
       "    }\n",
       "\n",
       "    .dataframe thead th {\n",
       "        text-align: right;\n",
       "    }\n",
       "</style>\n",
       "<table border=\"1\" class=\"dataframe\">\n",
       "  <thead>\n",
       "    <tr style=\"text-align: right;\">\n",
       "      <th></th>\n",
       "      <th>filename</th>\n",
       "      <th>question</th>\n",
       "      <th>options</th>\n",
       "      <th>answer</th>\n",
       "      <th>category</th>\n",
       "      <th>llava_answer</th>\n",
       "    </tr>\n",
       "  </thead>\n",
       "  <tbody>\n",
       "    <tr>\n",
       "      <th>0</th>\n",
       "      <td>BNATURE_3167.jpg</td>\n",
       "      <td>ছবিটি কোন ধর্মাবলম্বীদের প্রার্থনা স্থান?</td>\n",
       "      <td>['হিন্দু', 'মুসলিম', 'বৌদ্ধ', 'খ্রিস্টান']</td>\n",
       "      <td>মুসলিম</td>\n",
       "      <td>Arts &amp; History</td>\n",
       "      <td>-1</td>\n",
       "    </tr>\n",
       "    <tr>\n",
       "      <th>1</th>\n",
       "      <td>BORNON_3694.jpg</td>\n",
       "      <td>এই মহিলাটি কোন ঐতিহ্যবাহী পোশাক পরেছেন?</td>\n",
       "      <td>['শাড়ি', 'কুর্তা', 'লেহেঙ্গা', 'সালোয়ার কামিজ']</td>\n",
       "      <td>শাড়ি</td>\n",
       "      <td>Arts &amp; History</td>\n",
       "      <td>1</td>\n",
       "    </tr>\n",
       "    <tr>\n",
       "      <th>2</th>\n",
       "      <td>CHITTRON_3491.png</td>\n",
       "      <td>চিত্র প্রদর্শিত মাছটি বাংলাদেশের কি হিসেবে অভি...</td>\n",
       "      <td>['জাতীয় মাছ', 'সাধারণ মাছ', 'ছোট মাছ', 'কোনটি...</td>\n",
       "      <td>জাতীয় মাছ</td>\n",
       "      <td>Arts &amp; History</td>\n",
       "      <td>1</td>\n",
       "    </tr>\n",
       "  </tbody>\n",
       "</table>\n",
       "</div>"
      ],
      "text/plain": [
       "            filename                                           question  \\\n",
       "0   BNATURE_3167.jpg          ছবিটি কোন ধর্মাবলম্বীদের প্রার্থনা স্থান?   \n",
       "1    BORNON_3694.jpg            এই মহিলাটি কোন ঐতিহ্যবাহী পোশাক পরেছেন?   \n",
       "2  CHITTRON_3491.png  চিত্র প্রদর্শিত মাছটি বাংলাদেশের কি হিসেবে অভি...   \n",
       "\n",
       "                                             options      answer  \\\n",
       "0         ['হিন্দু', 'মুসলিম', 'বৌদ্ধ', 'খ্রিস্টান']      মুসলিম   \n",
       "1  ['শাড়ি', 'কুর্তা', 'লেহেঙ্গা', 'সালোয়ার কামিজ']       শাড়ি   \n",
       "2  ['জাতীয় মাছ', 'সাধারণ মাছ', 'ছোট মাছ', 'কোনটি...  জাতীয় মাছ   \n",
       "\n",
       "         category  llava_answer  \n",
       "0  Arts & History            -1  \n",
       "1  Arts & History             1  \n",
       "2  Arts & History             1  "
      ]
     },
     "execution_count": 6,
     "metadata": {},
     "output_type": "execute_result"
    }
   ],
   "source": [
    "llava_df.head(3)"
   ]
  },
  {
   "cell_type": "code",
   "execution_count": 7,
   "metadata": {},
   "outputs": [],
   "source": [
    "# llava_df.to_csv(llava_path, index=False)"
   ]
  },
  {
   "cell_type": "code",
   "execution_count": 8,
   "metadata": {},
   "outputs": [],
   "source": [
    "def substitute_answer(row):\n",
    "    idx = row['llava_answer']\n",
    "    options = ast.literal_eval(row['options'])\n",
    "    if idx == -1:# or idx-1 >= len(options):\n",
    "        return -1\n",
    "    # print(options, idx)\n",
    "    # print(options[int(idx)-1])\n",
    "    return options[int(idx)-1]"
   ]
  },
  {
   "cell_type": "code",
   "execution_count": 9,
   "metadata": {},
   "outputs": [],
   "source": [
    "llava_df['llava_answer_parsed'] = llava_df.apply(lambda row: substitute_answer(row), axis=1)"
   ]
  },
  {
   "cell_type": "code",
   "execution_count": 10,
   "metadata": {},
   "outputs": [
    {
     "data": {
      "text/html": [
       "<div>\n",
       "<style scoped>\n",
       "    .dataframe tbody tr th:only-of-type {\n",
       "        vertical-align: middle;\n",
       "    }\n",
       "\n",
       "    .dataframe tbody tr th {\n",
       "        vertical-align: top;\n",
       "    }\n",
       "\n",
       "    .dataframe thead th {\n",
       "        text-align: right;\n",
       "    }\n",
       "</style>\n",
       "<table border=\"1\" class=\"dataframe\">\n",
       "  <thead>\n",
       "    <tr style=\"text-align: right;\">\n",
       "      <th></th>\n",
       "      <th>filename</th>\n",
       "      <th>question</th>\n",
       "      <th>options</th>\n",
       "      <th>answer</th>\n",
       "      <th>category</th>\n",
       "      <th>llava_answer</th>\n",
       "      <th>llava_answer_parsed</th>\n",
       "    </tr>\n",
       "  </thead>\n",
       "  <tbody>\n",
       "    <tr>\n",
       "      <th>0</th>\n",
       "      <td>BNATURE_3167.jpg</td>\n",
       "      <td>ছবিটি কোন ধর্মাবলম্বীদের প্রার্থনা স্থান?</td>\n",
       "      <td>['হিন্দু', 'মুসলিম', 'বৌদ্ধ', 'খ্রিস্টান']</td>\n",
       "      <td>মুসলিম</td>\n",
       "      <td>Arts &amp; History</td>\n",
       "      <td>-1</td>\n",
       "      <td>-1</td>\n",
       "    </tr>\n",
       "    <tr>\n",
       "      <th>1</th>\n",
       "      <td>BORNON_3694.jpg</td>\n",
       "      <td>এই মহিলাটি কোন ঐতিহ্যবাহী পোশাক পরেছেন?</td>\n",
       "      <td>['শাড়ি', 'কুর্তা', 'লেহেঙ্গা', 'সালোয়ার কামিজ']</td>\n",
       "      <td>শাড়ি</td>\n",
       "      <td>Arts &amp; History</td>\n",
       "      <td>1</td>\n",
       "      <td>শাড়ি</td>\n",
       "    </tr>\n",
       "    <tr>\n",
       "      <th>2</th>\n",
       "      <td>CHITTRON_3491.png</td>\n",
       "      <td>চিত্র প্রদর্শিত মাছটি বাংলাদেশের কি হিসেবে অভি...</td>\n",
       "      <td>['জাতীয় মাছ', 'সাধারণ মাছ', 'ছোট মাছ', 'কোনটি...</td>\n",
       "      <td>জাতীয় মাছ</td>\n",
       "      <td>Arts &amp; History</td>\n",
       "      <td>1</td>\n",
       "      <td>জাতীয় মাছ</td>\n",
       "    </tr>\n",
       "  </tbody>\n",
       "</table>\n",
       "</div>"
      ],
      "text/plain": [
       "            filename                                           question  \\\n",
       "0   BNATURE_3167.jpg          ছবিটি কোন ধর্মাবলম্বীদের প্রার্থনা স্থান?   \n",
       "1    BORNON_3694.jpg            এই মহিলাটি কোন ঐতিহ্যবাহী পোশাক পরেছেন?   \n",
       "2  CHITTRON_3491.png  চিত্র প্রদর্শিত মাছটি বাংলাদেশের কি হিসেবে অভি...   \n",
       "\n",
       "                                             options      answer  \\\n",
       "0         ['হিন্দু', 'মুসলিম', 'বৌদ্ধ', 'খ্রিস্টান']      মুসলিম   \n",
       "1  ['শাড়ি', 'কুর্তা', 'লেহেঙ্গা', 'সালোয়ার কামিজ']       শাড়ি   \n",
       "2  ['জাতীয় মাছ', 'সাধারণ মাছ', 'ছোট মাছ', 'কোনটি...  জাতীয় মাছ   \n",
       "\n",
       "         category  llava_answer llava_answer_parsed  \n",
       "0  Arts & History            -1                  -1  \n",
       "1  Arts & History             1               শাড়ি  \n",
       "2  Arts & History             1          জাতীয় মাছ  "
      ]
     },
     "execution_count": 10,
     "metadata": {},
     "output_type": "execute_result"
    }
   ],
   "source": [
    "llava_df.head(3)"
   ]
  },
  {
   "cell_type": "code",
   "execution_count": 11,
   "metadata": {},
   "outputs": [
    {
     "data": {
      "text/plain": [
       "llava_answer_parsed\n",
       "-1                       73\n",
       "ফুটবল                    13\n",
       "ক্রিকেট                  10\n",
       "ঢাকা                      5\n",
       "মসজিদ                     5\n",
       "                         ..\n",
       "জর্দা পান                 1\n",
       "বৌদ্ধ পূর্ণিমা            1\n",
       "১৪ এপ্রিল                 1\n",
       "রাস্তার ধারে বসে আছেন     1\n",
       "চাল-ডাল                   1\n",
       "Name: count, Length: 381, dtype: int64"
      ]
     },
     "execution_count": 11,
     "metadata": {},
     "output_type": "execute_result"
    }
   ],
   "source": [
    "llava_df['llava_answer_parsed'].value_counts()"
   ]
  },
  {
   "cell_type": "code",
   "execution_count": null,
   "metadata": {},
   "outputs": [],
   "source": []
  }
 ],
 "metadata": {
  "kernelspec": {
   "display_name": "vqa-next-eInyQkxN-py3.10",
   "language": "python",
   "name": "python3"
  },
  "language_info": {
   "codemirror_mode": {
    "name": "ipython",
    "version": 3
   },
   "file_extension": ".py",
   "mimetype": "text/x-python",
   "name": "python",
   "nbconvert_exporter": "python",
   "pygments_lexer": "ipython3",
   "version": "3.10.12"
  }
 },
 "nbformat": 4,
 "nbformat_minor": 2
}
